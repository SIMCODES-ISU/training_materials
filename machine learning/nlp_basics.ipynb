{
  "cells": [
    {
      "cell_type": "code",
      "execution_count": 1,
      "metadata": {
        "pycharm": {
          "is_executing": true,
          "name": "#%%\n"
        },
        "colab": {
          "base_uri": "https://localhost:8080/"
        },
        "id": "GuIVXkOyu_R7",
        "outputId": "c5c75989-ca26-4151-cfd1-2bd84eb13fa5"
      },
      "outputs": [
        {
          "output_type": "stream",
          "name": "stdout",
          "text": [
            "[example sentence]: Iowa State University, located in Ames, is a renowned public research university.\n",
            "\n",
            "Uppercase: IOWA STATE UNIVERSITY, LOCATED IN AMES, IS A RENOWNED PUBLIC RESEARCH UNIVERSITY.\n",
            "Lowercase: iowa state university, located in ames, is a renowned public research university.\n",
            "\n"
          ]
        }
      ],
      "source": [
        "# 1. basic string operations\n",
        "sentence = \"Iowa State University, located in Ames, is a renowned public research university.\"\n",
        "print(\"[example sentence]: \" + sentence)\n",
        "print()\n",
        "\n",
        "# 1.1 convert to uppercase/lowercase\n",
        "uppercase = sentence.upper()\n",
        "lowercase = sentence.lower()\n",
        "print(\"Uppercase:\", uppercase)\n",
        "print(\"Lowercase:\", lowercase)\n",
        "print()"
      ]
    },
    {
      "cell_type": "code",
      "execution_count": 2,
      "outputs": [
        {
          "output_type": "stream",
          "name": "stdout",
          "text": [
            "Words in the sentence: ['Iowa', 'State', 'University,', 'located', 'in', 'Ames,', 'is', 'a', 'renowned', 'public', 'research', 'university.']\n",
            "\n",
            "Joined Sentence: Iowa State University, located in Ames, is a renowned public research university.\n",
            "\n"
          ]
        }
      ],
      "source": [
        "# 1.2 split into words & join words\n",
        "words = sentence.split()\n",
        "print(\"Words in the sentence:\", words)\n",
        "print()\n",
        "\n",
        "joined_sentence = \" \".join(words)\n",
        "print(\"Joined Sentence:\", joined_sentence)\n",
        "print()"
      ],
      "metadata": {
        "pycharm": {
          "name": "#%%\n"
        },
        "colab": {
          "base_uri": "https://localhost:8080/"
        },
        "id": "bHxK1YFXu_R9",
        "outputId": "0811ba44-509b-4b1a-846c-3d207ca89aca"
      }
    },
    {
      "cell_type": "code",
      "execution_count": 3,
      "outputs": [
        {
          "output_type": "stream",
          "name": "stdout",
          "text": [
            "'Ames' found at index: 34\n",
            "\n",
            "Modified Sentence: Iowa State University, located in Ames, Iowa, is a renowned public research university.\n",
            "\n"
          ]
        }
      ],
      "source": [
        "# 1.3 find substrings & replace substrings\n",
        "index = sentence.find(\"Ames\")\n",
        "# returns the index of the first occurrence of the substring.\n",
        "# if the substring is not found, it returns -1\n",
        "print(f\"'Ames' found at index: {index}\")\n",
        "print()\n",
        "\n",
        "modified_sentence = sentence.replace(\"Ames\", \"Ames, Iowa\")\n",
        "print(\"Modified Sentence:\", modified_sentence)\n",
        "print()"
      ],
      "metadata": {
        "pycharm": {
          "name": "#%%\n"
        },
        "colab": {
          "base_uri": "https://localhost:8080/"
        },
        "id": "UUSOPddwu_R9",
        "outputId": "f0605fae-5d6a-4343-dafa-a6498f6cd25f"
      }
    },
    {
      "cell_type": "code",
      "execution_count": 4,
      "outputs": [
        {
          "output_type": "stream",
          "name": "stdout",
          "text": [
            "First Character: I\n",
            "Last Character: .\n",
            "\n",
            "Substring (0:21): Iowa State University\n",
            "\n"
          ]
        }
      ],
      "source": [
        "# 1.4 access characters by Index\n",
        "first_char = sentence[0]\n",
        "last_char = sentence[-1]\n",
        "print(f\"First Character: {first_char}\")\n",
        "print(f\"Last Character: {last_char}\")\n",
        "print()\n",
        "\n",
        "substring = sentence[0:21]  # \"Iowa State University\", the blank space also counts\n",
        "print(\"Substring (0:21):\", substring)\n",
        "print()"
      ],
      "metadata": {
        "pycharm": {
          "name": "#%%\n"
        },
        "colab": {
          "base_uri": "https://localhost:8080/"
        },
        "id": "zewlHdK8u_R9",
        "outputId": "ceca3a81-07d9-46d0-9902-ab70a351f8a0"
      }
    },
    {
      "cell_type": "code",
      "execution_count": 6,
      "outputs": [
        {
          "output_type": "stream",
          "name": "stderr",
          "text": [
            "[nltk_data] Downloading package punkt_tab to /root/nltk_data...\n",
            "[nltk_data]   Unzipping tokenizers/punkt_tab.zip.\n"
          ]
        },
        {
          "output_type": "stream",
          "name": "stdout",
          "text": [
            "Word Tokens: ['Iowa', 'State', 'University', ',', 'located', 'in', 'Ames', ',', 'is', 'a', 'renowned', 'public', 'research', 'university', '.']\n",
            "\n",
            "Sentence Tokens: ['Iowa State University (ISU), in Ames, Iowa, is a top public research institution founded in 1858.', 'Renowned for science, engineering, and agriculture, it hosts the U.S. Department of Energy’s Ames Laboratory.', 'With over 36,000 students, ISU fosters innovation and global impact.']\n",
            "\n"
          ]
        }
      ],
      "source": [
        "# 2. NLTK. \"The Natural Language Toolkit\"\n",
        "import nltk\n",
        "nltk.download('punkt_tab')  # ensure tokenizer resources are available\n",
        "\n",
        "sentence = \"Iowa State University, located in Ames, is a renowned public research university.\"\n",
        "\n",
        "# 2.1 Tokenization\n",
        "# Word\n",
        "from nltk.tokenize import word_tokenize\n",
        "tokens = word_tokenize(sentence)\n",
        "print(\"Word Tokens:\", tokens)\n",
        "print()\n",
        "\n",
        "# Sentence\n",
        "from nltk.tokenize import sent_tokenize\n",
        "long_introduction = \"Iowa State University (ISU), in Ames, Iowa, is a top public research institution founded in 1858. \\\n",
        "Renowned for science, engineering, and agriculture, it hosts the U.S. Department of Energy’s Ames Laboratory. \\\n",
        "With over 36,000 students, ISU fosters innovation and global impact.\"\n",
        "sentences = sent_tokenize(long_introduction)\n",
        "print(\"Sentence Tokens:\", sentences)\n",
        "print()"
      ],
      "metadata": {
        "pycharm": {
          "name": "#%%\n"
        },
        "colab": {
          "base_uri": "https://localhost:8080/"
        },
        "id": "r2JG-hjpu_R9",
        "outputId": "ce5a5a8a-8563-4061-d211-1799bd01c4ae"
      }
    },
    {
      "cell_type": "code",
      "execution_count": 7,
      "outputs": [
        {
          "output_type": "stream",
          "name": "stdout",
          "text": [
            "NLTK stopwords: {'both', 'hasn', 'yourselves', 'what', 'same', \"he's\", 'to', \"you'll\", 'up', 'on', \"it'll\", 'weren', 'it', \"they'd\", 'can', 'for', \"aren't\", 'over', 'down', 'is', 'nor', 'that', 'them', 'him', 'any', \"i'm\", 'if', 'other', 'his', 'once', 'who', 'not', 'there', \"weren't\", 't', 'through', 'were', \"we'll\", 'the', 'so', \"won't\", \"he'll\", 'too', \"mustn't\", 'this', 'wouldn', \"that'll\", \"you've\", \"shan't\", 'd', 'hadn', 'and', \"they'll\", 'shan', 'hers', 'more', 'itself', 'of', 'when', 'they', 'needn', 'y', 'yourself', 'as', 'has', 'while', 'her', \"didn't\", \"don't\", 'few', 'above', 'myself', \"she's\", 'ourselves', 'didn', 'by', 'from', 'again', 'now', \"hadn't\", 'further', 's', 'most', 'did', 'because', 'whom', 'between', \"you'd\", \"couldn't\", 'theirs', 'before', 'does', 'our', 'isn', 'own', 'ain', 'just', \"we've\", \"i'd\", 'those', 'aren', 'my', \"he'd\", 'ma', 're', 'i', 'was', 'll', 'off', 'ours', \"she'll\", \"needn't\", 'with', \"you're\", \"doesn't\", 'a', 'under', 'you', 'shouldn', 'o', 'why', 'have', 'me', \"we'd\", 'about', \"wouldn't\", 'at', \"we're\", 'in', 'no', 'being', 'doing', 'very', 'be', \"should've\", \"shouldn't\", 'should', 'but', 'its', \"they've\", 'am', 'wasn', 'won', \"haven't\", 'are', \"mightn't\", 'don', 'out', 'here', \"they're\", 'herself', \"it'd\", 'had', 'do', 'only', 'then', 'than', 'will', 'against', 'some', 'themselves', 'during', 'she', 'haven', 'm', \"i'll\", 'after', \"hasn't\", 'into', 'yours', 'an', 'such', 'he', 'these', 'which', 'or', 'their', 'himself', 've', 'we', \"isn't\", 'below', 'where', 'all', \"it's\", 'until', \"she'd\", 'mightn', \"wasn't\", 'mustn', 'doesn', 'how', 'having', 'your', 'been', 'couldn', 'each', \"i've\"}\n",
            "\n",
            "Filtered Words (No Stop Words): ['Iowa', 'State', 'University', ',', 'located', 'Ames', ',', 'renowned', 'public', 'research', 'university', '.']\n",
            "\n",
            "Frequency Distribution:\n",
            "[('university', 2), (',', 2), ('iowa', 1), ('state', 1), ('located', 1)]\n",
            "\n"
          ]
        },
        {
          "output_type": "stream",
          "name": "stderr",
          "text": [
            "[nltk_data] Downloading package stopwords to /root/nltk_data...\n",
            "[nltk_data]   Unzipping corpora/stopwords.zip.\n"
          ]
        }
      ],
      "source": [
        "# 2.2 Stop Words Removal & Frequency Distribution\n",
        "from nltk.corpus import stopwords\n",
        "nltk.download('stopwords')\n",
        "stop_words = set(stopwords.words('english'))\n",
        "print(\"NLTK stopwords:\", stop_words)\n",
        "print()\n",
        "filtered_words = [word for word in word_tokenize(sentence) if word.lower() not in stop_words]\n",
        "print(\"Filtered Words (No Stop Words):\", filtered_words)\n",
        "print()\n",
        "\n",
        "from nltk.probability import FreqDist\n",
        "filtered_words = [word.lower() for word in filtered_words]\n",
        "freq_dist = FreqDist(filtered_words)\n",
        "print(\"Frequency Distribution:\")\n",
        "print(freq_dist.most_common(5))\n",
        "print()"
      ],
      "metadata": {
        "pycharm": {
          "name": "#%%\n"
        },
        "colab": {
          "base_uri": "https://localhost:8080/"
        },
        "id": "XIa7ARpou_R-",
        "outputId": "f326c6f0-4331-4b47-c82b-e2b181b216cf"
      }
    },
    {
      "cell_type": "code",
      "execution_count": 8,
      "outputs": [
        {
          "output_type": "stream",
          "name": "stdout",
          "text": [
            "Tokens:\n",
            "Iowa\n",
            "State\n",
            "University\n",
            ",\n",
            "located\n",
            "in\n",
            "Ames\n",
            ",\n",
            "is\n",
            "a\n",
            "renowned\n",
            "public\n",
            "research\n",
            "university\n",
            ".\n",
            "\n"
          ]
        }
      ],
      "source": [
        "# 3. spaCy\n",
        "sentence = \"Iowa State University, located in Ames, is a renowned public research university.\"\n",
        "\n",
        "import spacy\n",
        "nlp = spacy.load(\"en_core_web_sm\")  # load the small English model\n",
        "# spaCy also comes with pre-trained models for multiple languages,\n",
        "# allowing us to get started quickly with real-world text analysis\n",
        "doc = nlp(sentence)\n",
        "\n",
        "# 3.1 Tokenization\n",
        "print(\"Tokens:\")\n",
        "for token in doc:\n",
        "    print(token.text)\n",
        "print()"
      ],
      "metadata": {
        "pycharm": {
          "name": "#%%\n"
        },
        "colab": {
          "base_uri": "https://localhost:8080/"
        },
        "id": "eD2kJrRuu_R-",
        "outputId": "836ed962-1533-4f88-cf43-94663485a4af"
      }
    },
    {
      "cell_type": "code",
      "execution_count": 9,
      "outputs": [
        {
          "output_type": "stream",
          "name": "stdout",
          "text": [
            "POS Tags:\n",
            "Iowa -> PROPN (NNP)\n",
            "State -> PROPN (NNP)\n",
            "University -> PROPN (NNP)\n",
            ", -> PUNCT (,)\n",
            "located -> VERB (VBN)\n",
            "in -> ADP (IN)\n",
            "Ames -> PROPN (NNP)\n",
            ", -> PUNCT (,)\n",
            "is -> AUX (VBZ)\n",
            "a -> DET (DT)\n",
            "renowned -> ADJ (JJ)\n",
            "public -> ADJ (JJ)\n",
            "research -> NOUN (NN)\n",
            "university -> NOUN (NN)\n",
            ". -> PUNCT (.)\n",
            "\n"
          ]
        }
      ],
      "source": [
        "# 3.2 Part-of-Speech (POS) Tagging\n",
        "print(\"POS Tags:\")\n",
        "for token in doc:\n",
        "    print(f\"{token.text} -> {token.pos_} ({token.tag_})\")\n",
        "# token.pos_: The simplified part-of-speech tag (e.g., NOUN, VERB, etc.).\n",
        "# token.tag_: The fine-grained POS tag, which provides more specific grammatical details (e.g., VBN for past participle verb).\n",
        "print()"
      ],
      "metadata": {
        "pycharm": {
          "name": "#%%\n"
        },
        "colab": {
          "base_uri": "https://localhost:8080/"
        },
        "id": "XunWdyCGu_R-",
        "outputId": "58a43eae-3c90-4fd7-b52b-b3c2ae5ea57c"
      }
    },
    {
      "cell_type": "code",
      "execution_count": 10,
      "outputs": [
        {
          "output_type": "stream",
          "name": "stdout",
          "text": [
            "Named Entities:\n",
            "Iowa State University -> ORG (Companies, agencies, institutions, etc.)\n",
            "Ames -> GPE (Countries, cities, states)\n",
            "\n"
          ]
        }
      ],
      "source": [
        "# 3.3 Named Entity Recognition (NER)\n",
        "print(\"Named Entities:\")\n",
        "for ent in doc.ents:\n",
        "    print(f\"{ent.text} -> {ent.label_} ({spacy.explain(ent.label_)})\")\n",
        "print()"
      ],
      "metadata": {
        "pycharm": {
          "name": "#%%\n"
        },
        "colab": {
          "base_uri": "https://localhost:8080/"
        },
        "id": "-KquotJbu_R_",
        "outputId": "83d1e0e4-d8e3-4822-bc8e-3fba5b468c9b"
      }
    },
    {
      "cell_type": "code",
      "execution_count": 11,
      "outputs": [
        {
          "output_type": "stream",
          "name": "stdout",
          "text": [
            "Dependency Parsing:\n",
            "Iowa -> compound (Head: University)\n",
            "State -> compound (Head: University)\n",
            "University -> nsubj (Head: is)\n",
            ", -> punct (Head: University)\n",
            "located -> acl (Head: University)\n",
            "in -> prep (Head: located)\n",
            "Ames -> pobj (Head: in)\n",
            ", -> punct (Head: University)\n",
            "is -> ROOT (Head: is)\n",
            "a -> det (Head: university)\n",
            "renowned -> amod (Head: university)\n",
            "public -> amod (Head: research)\n",
            "research -> compound (Head: university)\n",
            "university -> attr (Head: is)\n",
            ". -> punct (Head: is)\n",
            "\n"
          ]
        }
      ],
      "source": [
        "# 3.4 Dependency Parsing\n",
        "# Focuses on relationships between words in a sentence.\n",
        "# Represents sentences as a directed graph where words are nodes, and dependencies (like subject-verb, object-verb) are edges.\n",
        "print(\"Dependency Parsing:\")\n",
        "for token in doc:\n",
        "    print(f\"{token.text} -> {token.dep_} (Head: {token.head.text})\")\n",
        "print()\n",
        "\n",
        "# this is just a simple parser from spaCy\n",
        "# there are many more advanced parsers, for example, you can try the demo: https://corenlp.run/\n",
        "# parsing bridges the gap between raw text and its syntactic or semantic meaning, making it essential for advanced language understanding"
      ],
      "metadata": {
        "pycharm": {
          "name": "#%%\n"
        },
        "colab": {
          "base_uri": "https://localhost:8080/"
        },
        "id": "pi9tYGDlu_R_",
        "outputId": "e18b9bbd-55df-4810-d04a-c83bb5fdcd10"
      }
    },
    {
      "cell_type": "code",
      "execution_count": 12,
      "outputs": [
        {
          "output_type": "stream",
          "name": "stdout",
          "text": [
            "Sentences:\n",
            "Iowa State University (ISU), in Ames, Iowa, is a top public research institution founded in 1858.\n",
            "Renowned for science, engineering, and agriculture, it hosts the U.S. Department of Energy’s Ames Laboratory.\n",
            "With over 36,000 students, ISU fosters innovation and global impact.\n",
            "\n"
          ]
        }
      ],
      "source": [
        "# 3.5 Sentence Segmentation\n",
        "long_introduction = \"Iowa State University (ISU), in Ames, Iowa, is a top public research institution founded in 1858. \\\n",
        "Renowned for science, engineering, and agriculture, it hosts the U.S. Department of Energy’s Ames Laboratory. \\\n",
        "With over 36,000 students, ISU fosters innovation and global impact.\"\n",
        "doc_long = nlp(long_introduction)\n",
        "\n",
        "print(\"Sentences:\")\n",
        "for sent in doc_long.sents:\n",
        "    print(sent.text)\n",
        "print()"
      ],
      "metadata": {
        "pycharm": {
          "name": "#%%\n"
        },
        "colab": {
          "base_uri": "https://localhost:8080/"
        },
        "id": "poo5TpgBu_R_",
        "outputId": "3568b5af-6abd-4a2c-a2d9-5d216a585dc8"
      }
    },
    {
      "cell_type": "code",
      "execution_count": 13,
      "outputs": [
        {
          "output_type": "stream",
          "name": "stdout",
          "text": [
            "Lemmatized Tokens:\n",
            "Iowa -> Iowa\n",
            "State -> State\n",
            "University -> University\n",
            ", -> ,\n",
            "located -> locate\n",
            "in -> in\n",
            "Ames -> Ames\n",
            ", -> ,\n",
            "is -> be\n",
            "a -> a\n",
            "renowned -> renowned\n",
            "public -> public\n",
            "research -> research\n",
            "university -> university\n",
            ". -> .\n",
            "\n"
          ]
        }
      ],
      "source": [
        "# 3.6 Lemmatization\n",
        "# reduce a word to its base or root form (known as the \"lemma\")\n",
        "print(\"Lemmatized Tokens:\")\n",
        "for token in doc:\n",
        "    print(f\"{token.text} -> {token.lemma_}\")\n",
        "print()"
      ],
      "metadata": {
        "pycharm": {
          "name": "#%%\n"
        },
        "colab": {
          "base_uri": "https://localhost:8080/"
        },
        "id": "c8fXcOD2u_R_",
        "outputId": "5e6341b1-ce84-4c1d-9bbd-29c7906fb5d6"
      }
    },
    {
      "cell_type": "code",
      "execution_count": 14,
      "outputs": [
        {
          "output_type": "stream",
          "name": "stdout",
          "text": [
            "Similarity between 'research' and 'university': 0.7308306694030762\n",
            "\n"
          ]
        },
        {
          "output_type": "stream",
          "name": "stderr",
          "text": [
            "<ipython-input-14-17e239f13654>:4: UserWarning: [W007] The model you're using has no word vectors loaded, so the result of the Doc.similarity method will be based on the tagger, parser and NER, which may not give useful similarity judgements. This may happen if you're using one of the small models, e.g. `en_core_web_sm`, which don't ship with word vectors and only use context-sensitive tensors. You can always add your own word vectors, or use one of the larger models instead if available.\n",
            "  similarity = word1.similarity(word2)\n"
          ]
        }
      ],
      "source": [
        "# 3.7 Similarity Between Words\n",
        "word1 = nlp(\"research\")\n",
        "word2 = nlp(\"university\")\n",
        "similarity = word1.similarity(word2)\n",
        "print(f\"Similarity between '{word1}' and '{word2}': {similarity}\")\n",
        "print()"
      ],
      "metadata": {
        "pycharm": {
          "name": "#%%\n"
        },
        "colab": {
          "base_uri": "https://localhost:8080/"
        },
        "id": "Uvdve0OGu_SA",
        "outputId": "6f818d58-591d-49f0-acf3-782b7ffac3e1"
      }
    },
    {
      "cell_type": "code",
      "execution_count": 15,
      "outputs": [
        {
          "output_type": "stream",
          "name": "stdout",
          "text": [
            "Pattern 'Ames' found at position: 34\n",
            "\n"
          ]
        }
      ],
      "source": [
        "# 4. Regular Expression (Regex)\n",
        "import re\n",
        "\n",
        "# 4.1 Check if a Pattern Exists\n",
        "pattern = r\"Ames\"\n",
        "match = re.search(pattern, sentence)  # stops after finding the first match in the string\n",
        "if match:\n",
        "    print(f\"Pattern '{pattern}' found at position: {match.start()}\")\n",
        "else:\n",
        "    print(f\"Pattern '{pattern}' not found\")\n",
        "print()"
      ],
      "metadata": {
        "pycharm": {
          "name": "#%%\n"
        },
        "colab": {
          "base_uri": "https://localhost:8080/"
        },
        "id": "bNYPSQhgu_SA",
        "outputId": "c46994b3-c186-4d2f-fa1c-1e467b244d0a"
      }
    },
    {
      "cell_type": "code",
      "execution_count": 16,
      "outputs": [
        {
          "output_type": "stream",
          "name": "stdout",
          "text": [
            "Case-insensitive matches for 'university': ['University', 'university']\n",
            "\n"
          ]
        }
      ],
      "source": [
        "# 4.2 Find all Case-Insensitive Matching\n",
        "pattern = r\"university\"\n",
        "matches = re.findall(pattern, sentence, re.IGNORECASE)\n",
        "print(f\"Case-insensitive matches for '{pattern}':\", matches)\n",
        "print()"
      ],
      "metadata": {
        "pycharm": {
          "name": "#%%\n"
        },
        "colab": {
          "base_uri": "https://localhost:8080/"
        },
        "id": "G_MXBM3iu_SA",
        "outputId": "812a6107-d36d-46a8-ce9a-a4d68117c65c"
      }
    },
    {
      "cell_type": "code",
      "execution_count": 17,
      "outputs": [
        {
          "output_type": "stream",
          "name": "stdout",
          "text": [
            "Split Sentence: ['Iowa State University', ' located in Ames', ' is a renowned public research university', '']\n",
            "\n"
          ]
        }
      ],
      "source": [
        "# 4.3 Split String Using a Pattern\n",
        "pattern = r\",|\\.\"  # The pipe symbol \"|\" means \"or\" in regex; \"\\.\" matches the dot \".\"\n",
        "parts = re.split(pattern, sentence)\n",
        "print(\"Split Sentence:\", parts)\n",
        "print()"
      ],
      "metadata": {
        "pycharm": {
          "name": "#%%\n"
        },
        "colab": {
          "base_uri": "https://localhost:8080/"
        },
        "id": "Q5OdrG6Ku_SA",
        "outputId": "f67e121c-8186-4f3e-f480-b683766035fc"
      }
    },
    {
      "cell_type": "code",
      "execution_count": 19,
      "outputs": [
        {
          "output_type": "stream",
          "name": "stdout",
          "text": [
            "Valid email found!\n",
            "\n"
          ]
        }
      ],
      "source": [
        "# 4.4 Validate Patterns (e.g., Email-Like Text)\n",
        "test_string = \"Contact me at qli@iastate.edu\"\n",
        "\n",
        "pattern = r\"\\b[A-Za-z0-9._-]+@[A-Za-z0-9._-]+\\.[A-Za-z]{2,}\\b\"\n",
        "# \\b\n",
        "# Matches a word boundary, ensuring the email address is a standalone word and not part of a larger string.\n",
        "# This is used at both the start and end of the pattern.\n",
        "\n",
        "# [A-Za-z0-9._-]+\n",
        "# Matches the local part of the email address (before the @).\n",
        "# Allows any combination of uppercase and lowercase letters (A-Za-z), digits (0-9), dots (.), underscores (_), and dashes (-).\n",
        "# The \"+\" ensures there is at least one character.\n",
        "\n",
        "# [A-Za-z]{2,}\n",
        "# Matches the top-level domain (e.g., com, org, net).\n",
        "# Accepts at least two characters ({2,}) and ensures they are only uppercase (A-Z) or lowercase (a-z) letters.\n",
        "\n",
        "if re.search(pattern, test_string):\n",
        "    print(\"Valid email found!\")\n",
        "else:\n",
        "    print(\"No valid email found.\")\n",
        "print()"
      ],
      "metadata": {
        "pycharm": {
          "name": "#%%\n"
        },
        "colab": {
          "base_uri": "https://localhost:8080/"
        },
        "id": "qgyjE0a0u_SA",
        "outputId": "43691dbe-fb81-4d4d-f1b8-191629fec26b"
      }
    },
    {
      "cell_type": "code",
      "execution_count": 20,
      "outputs": [
        {
          "output_type": "stream",
          "name": "stderr",
          "text": [
            "/usr/local/lib/python3.11/dist-packages/huggingface_hub/utils/_auth.py:94: UserWarning: \n",
            "The secret `HF_TOKEN` does not exist in your Colab secrets.\n",
            "To authenticate with the Hugging Face Hub, create a token in your settings tab (https://huggingface.co/settings/tokens), set it as secret in your Google Colab and restart your session.\n",
            "You will be able to reuse this secret in all of your notebooks.\n",
            "Please note that authentication is recommended but still optional to access public models or datasets.\n",
            "  warnings.warn(\n"
          ]
        },
        {
          "output_type": "display_data",
          "data": {
            "text/plain": [
              "tokenizer_config.json:   0%|          | 0.00/48.0 [00:00<?, ?B/s]"
            ],
            "application/vnd.jupyter.widget-view+json": {
              "version_major": 2,
              "version_minor": 0,
              "model_id": "dd1df495614847f3a1f3082eb8e57102"
            }
          },
          "metadata": {}
        },
        {
          "output_type": "display_data",
          "data": {
            "text/plain": [
              "vocab.txt:   0%|          | 0.00/232k [00:00<?, ?B/s]"
            ],
            "application/vnd.jupyter.widget-view+json": {
              "version_major": 2,
              "version_minor": 0,
              "model_id": "cc7456d477b942f782cff78e11e890f2"
            }
          },
          "metadata": {}
        },
        {
          "output_type": "display_data",
          "data": {
            "text/plain": [
              "tokenizer.json:   0%|          | 0.00/466k [00:00<?, ?B/s]"
            ],
            "application/vnd.jupyter.widget-view+json": {
              "version_major": 2,
              "version_minor": 0,
              "model_id": "8ca0350cb78f40d2867b526dd85be38c"
            }
          },
          "metadata": {}
        },
        {
          "output_type": "display_data",
          "data": {
            "text/plain": [
              "config.json:   0%|          | 0.00/570 [00:00<?, ?B/s]"
            ],
            "application/vnd.jupyter.widget-view+json": {
              "version_major": 2,
              "version_minor": 0,
              "model_id": "c7abf40a6fb4484a8576ac4998b8cdc2"
            }
          },
          "metadata": {}
        },
        {
          "output_type": "stream",
          "name": "stderr",
          "text": [
            "Xet Storage is enabled for this repo, but the 'hf_xet' package is not installed. Falling back to regular HTTP download. For better performance, install the package with: `pip install huggingface_hub[hf_xet]` or `pip install hf_xet`\n",
            "WARNING:huggingface_hub.file_download:Xet Storage is enabled for this repo, but the 'hf_xet' package is not installed. Falling back to regular HTTP download. For better performance, install the package with: `pip install huggingface_hub[hf_xet]` or `pip install hf_xet`\n"
          ]
        },
        {
          "output_type": "display_data",
          "data": {
            "text/plain": [
              "model.safetensors:   0%|          | 0.00/440M [00:00<?, ?B/s]"
            ],
            "application/vnd.jupyter.widget-view+json": {
              "version_major": 2,
              "version_minor": 0,
              "model_id": "54244edf04504a598e9d15d7086d04d6"
            }
          },
          "metadata": {}
        },
        {
          "output_type": "stream",
          "name": "stdout",
          "text": [
            "Tokens: ['iowa', 'state', 'university', ',', 'located', 'in', 'ames', ',', 'is', 'a', 'renowned', 'public', 'research', 'university', '.']\n",
            "Input IDs: [101, 5947, 2110, 2118, 1010, 2284, 1999, 19900, 1010, 2003, 1037, 8228, 2270, 2470, 2118, 1012, 102]\n",
            "Decoded Sentence: [CLS] iowa state university, located in ames, is a renowned public research university. [SEP]\n",
            "Input Tensor Keys: dict_keys(['input_ids', 'token_type_ids', 'attention_mask'])\n",
            "Input IDs Tensor: tensor([[  101,  5947,  2110,  2118,  1010,  2284,  1999, 19900,  1010,  2003,\n",
            "          1037,  8228,  2270,  2470,  2118,  1012,   102]])\n",
            "Attention Mask Tensor: tensor([[1, 1, 1, 1, 1, 1, 1, 1, 1, 1, 1, 1, 1, 1, 1, 1, 1]])\n",
            "\n"
          ]
        }
      ],
      "source": [
        "# 5. BERT (Bidirectional Encoder Representations from Transformers)\n",
        "from transformers import BertTokenizer, BertModel\n",
        "import torch\n",
        "\n",
        "# 5.1 Prepare Input for BERT\n",
        "\n",
        "# Load pre-trained BERT tokenizer and model\n",
        "tokenizer = BertTokenizer.from_pretrained(\"bert-base-uncased\")\n",
        "model = BertModel.from_pretrained(\"bert-base-uncased\")\n",
        "\n",
        "sentence = \"Iowa State University, located in Ames, is a renowned public research university.\"\n",
        "\n",
        "# Tokenize the input sentence\n",
        "tokens = tokenizer.tokenize(sentence)\n",
        "print(\"Tokens:\", tokens)\n",
        "\n",
        "# Convert tokens to input IDs\n",
        "input_ids = tokenizer.encode(sentence, add_special_tokens=True)\n",
        "print(\"Input IDs:\", input_ids)\n",
        "print(\"Decoded Sentence:\", tokenizer.decode(input_ids))\n",
        "# with special tokens [CLS] and [SEP] used for classification tasks and indicating sentence boundaries\n",
        "\n",
        "\n",
        "# Convert to PyTorch tensors\n",
        "inputs = tokenizer(sentence, return_tensors=\"pt\", add_special_tokens=True)\n",
        "\n",
        "print(\"Input Tensor Keys:\", inputs.keys())  # 'input_ids' and 'attention_mask'\n",
        "print(\"Input IDs Tensor:\", inputs[\"input_ids\"])\n",
        "print(\"Attention Mask Tensor:\", inputs[\"attention_mask\"])\n",
        "# the mask indicates which tokens should be attended to (1) and which should be ignored (0)\n",
        "# In this example, all tokens have a mask value of 1, meaning all tokens should be attended to\n",
        "print()"
      ],
      "metadata": {
        "pycharm": {
          "name": "#%%\n"
        },
        "colab": {
          "base_uri": "https://localhost:8080/",
          "height": 475,
          "referenced_widgets": [
            "dd1df495614847f3a1f3082eb8e57102",
            "6dd24fd0afd448caa338d6bca8cd8330",
            "82e5c57159c74156bf02008ec0151584",
            "80b66f3d9d7d47c6bb7e35e713a1b207",
            "c12869ba8ee14ea8b748a802d073ea4c",
            "ccac9271a8f84f9eb71a1f512113a394",
            "52f40afbb59d4af8a047829dba6b2224",
            "3901f1ad6389497e9d3168180c70c723",
            "4a1a307716d548b6858c880447d1053f",
            "9a9d39cc09334bd5bd8fafde36f403a6",
            "bf4a643ecda645bfac5af3f2ebfd08b2",
            "cc7456d477b942f782cff78e11e890f2",
            "fbcd6784651245e9b112d145a7de3d55",
            "1aa59fd6f9df4264a056e0df32aad805",
            "78a1a6a2876b4cbc9b9a93a28ba9a2b8",
            "69a4727a0fe24ca3841f24faf2b282f7",
            "0e55a5696749459ba8ca39dc2fa34202",
            "9bcd777e84464863a0186792d390aedf",
            "280225f6325f465a8bdbcae4e8dd21e9",
            "292f19b021ba45c8a2bae2fb419be0e5",
            "69684a08274043e391e5185a67ca42dc",
            "99d55138619f4898977b5dda474c0966",
            "8ca0350cb78f40d2867b526dd85be38c",
            "267d0af21e764df4b9b3c80a45dff748",
            "45e21bed11604ee6a2a2aed7a1b3fcff",
            "b1d978c763644afdb4bcdfa7683ade79",
            "d79cfdd28932405faef058b35e4323f6",
            "a7e381f47d6d4fe09ad2623d3c4196f0",
            "0085be8b9c444980a92f824204274f0b",
            "e226ae798ad64b9e85165f6583373fee",
            "5d816fa665bf413c93e69f9e8e6fb20d",
            "998e39052d5b4fabaf70739896e76ffc",
            "24d6f4a55ba3444abdffead1d34ab781",
            "c7abf40a6fb4484a8576ac4998b8cdc2",
            "c032912d892249b898b68c00c0f174dd",
            "566bcbae6ae247bdb9719e5c2f3799b6",
            "b1ff311c2b8448ff8201cf8728f7b4e0",
            "0edda5a86ba14c008df38c04f3f9f96c",
            "e375ab31e2f44377b28aee4164fb868a",
            "16109f24e91a4d7592446d553511a3de",
            "0763af7a931d4953b4bdac9840bed6ba",
            "a1d8077ef04d4734bed439ef98a0803b",
            "e455d7d3c384452aa2badf5a57e5f616",
            "e69abbf532b5444583408925c8d4a798",
            "54244edf04504a598e9d15d7086d04d6",
            "0b965f5704844fb6ae14c80f68a0be9a",
            "9078d49d08de458ba115a98e986f974c",
            "accd5486d8df46a687b76ebbfaf893db",
            "5f8633c328144d7c9fb043153bfe1074",
            "6f6bbd381f4d41b5acd54bc2072f803d",
            "f8a1f7fba5784c0fa786d4f591bacb8c",
            "c73233625956470dab5775d6e87ee9e2",
            "1f667339f8254d328668ff5ec7f3766e",
            "77e2d2bc20344b01b4374329d95916f1",
            "3e58dc3c518446cc8206a7f0696c8ea1"
          ]
        },
        "id": "lfql4hMJu_SA",
        "outputId": "44874660-5714-4b07-e389-aefe96be919d"
      }
    },
    {
      "cell_type": "code",
      "execution_count": 21,
      "outputs": [
        {
          "output_type": "stream",
          "name": "stdout",
          "text": [
            "Last Hidden State Shape: torch.Size([1, 17, 768])\n",
            "Pooled Output Shape: torch.Size([1, 768])\n",
            "\n",
            "Sentence Embedding (768-dim): tensor([-0.9481, -0.6508, -0.9143,  0.8588,  0.8159, -0.3357,  0.8573,  0.5973,\n",
            "        -0.7377, -1.0000, -0.7547,  0.9797,  0.9933,  0.2668,  0.8878, -0.8048,\n",
            "        -0.6174, -0.6574,  0.5649,  0.1456,  0.7986,  1.0000, -0.3083,  0.6085,\n",
            "         0.6283,  0.9938, -0.8767,  0.9488,  0.9641,  0.8719, -0.7002,  0.5704,\n",
            "        -0.9975, -0.2268, -0.8265, -0.9946,  0.6888, -0.7981, -0.0198, -0.3524,\n",
            "        -0.9090,  0.6835,  1.0000,  0.0334,  0.7192, -0.4340, -1.0000,  0.5348,\n",
            "        -0.9142,  0.9602,  0.8069,  0.9344,  0.3704,  0.7103,  0.6457, -0.5981,\n",
            "         0.2211,  0.4503, -0.5062, -0.7467, -0.6920,  0.5280, -0.9071, -0.8873,\n",
            "         0.9438,  0.7676, -0.3514, -0.5435, -0.2921,  0.2980,  0.8565,  0.3189,\n",
            "        -0.3033, -0.7898,  0.6055,  0.3297, -0.4019,  1.0000, -0.5569, -0.9937,\n",
            "         0.5377,  0.5880,  0.3716, -0.4007,  0.3338, -1.0000,  0.7053, -0.4045,\n",
            "        -0.9965,  0.5090,  0.8108, -0.4233, -0.0164,  0.4568,  0.1667, -0.7020,\n",
            "        -0.5815, -0.9283, -0.5772, -0.6653,  0.4318, -0.4368, -0.5672, -0.4459,\n",
            "         0.5871, -0.7918, -0.4448,  0.5195, -0.0697,  0.7234,  0.3138, -0.5090,\n",
            "         0.6324, -0.9534,  0.7840, -0.5371, -0.9971, -0.4484, -0.9969,  0.8281,\n",
            "        -0.5947, -0.4639,  0.9381, -0.4350,  0.6254, -0.4192, -0.9215, -1.0000,\n",
            "        -0.7764, -0.6536, -0.0874, -0.5462, -0.9941, -0.9860,  0.7489,  0.9620,\n",
            "         0.4363,  1.0000, -0.6380,  0.9577, -0.0141, -0.5617,  0.7823, -0.6079,\n",
            "         0.6974, -0.0181, -0.6090,  0.4252, -0.8304,  0.5068, -0.8555, -0.4721,\n",
            "        -0.5599, -0.9425, -0.5654,  0.9347, -0.6278, -0.9116,  0.1261, -0.5647,\n",
            "        -0.6124,  0.8657,  0.8300,  0.4502, -0.2399,  0.5484, -0.1604,  0.7210,\n",
            "        -0.9097, -0.4350,  0.6186, -0.5282, -0.8102, -0.9911, -0.6056,  0.6461,\n",
            "         0.9947,  0.8867,  0.6072,  0.8693, -0.5604,  0.8343, -0.9785,  0.9934,\n",
            "        -0.3313,  0.5219, -0.6937,  0.3660, -0.9054, -0.3020,  0.8899, -0.7998,\n",
            "        -0.8816, -0.4423, -0.6825, -0.6362, -0.9038,  0.7967, -0.4898, -0.5398,\n",
            "        -0.3768,  0.9607,  0.9573,  0.8168,  0.2618,  0.7478, -0.8745, -0.4444,\n",
            "         0.3848,  0.4923,  0.3020,  0.9974, -0.7839, -0.4265, -0.8947, -0.9914,\n",
            "         0.1995, -0.9140, -0.4385, -0.8635,  0.7733, -0.7617,  0.1363,  0.4837,\n",
            "        -0.8565, -0.8366,  0.5793, -0.6605,  0.6471, -0.3988,  0.9574,  0.9426,\n",
            "        -0.7859,  0.4352,  0.9516, -0.7702, -0.8594,  0.5616, -0.5386,  0.8588,\n",
            "        -0.7217,  0.9965,  0.9079,  0.7971, -0.9716, -0.4603, -0.8747, -0.2247,\n",
            "        -0.2695,  0.0631,  0.8542,  0.4097,  0.7446,  0.6316, -0.7416,  0.9953,\n",
            "        -0.9686, -0.9815, -0.9206, -0.5096, -0.9970,  0.9365,  0.5530,  0.8460,\n",
            "        -0.6641, -0.7876, -0.9808,  0.9037,  0.4166,  0.9781, -0.6264, -0.8969,\n",
            "        -0.8510, -0.9724,  0.4211, -0.2312, -0.3084,  0.3321, -0.9595,  0.6325,\n",
            "         0.7955,  0.7634, -0.8129,  0.9989,  1.0000,  0.9897,  0.8834,  0.7344,\n",
            "        -1.0000, -0.9577,  1.0000, -0.9985, -1.0000, -0.9437, -0.6919,  0.5660,\n",
            "        -1.0000, -0.4272, -0.3070, -0.9400,  0.7237,  0.9887,  0.9798, -1.0000,\n",
            "         0.9604,  0.9698, -0.4709,  0.9750, -0.5261,  0.9845,  0.1075,  0.6899,\n",
            "        -0.4654,  0.5334, -0.7246, -0.8934, -0.6564, -0.8222,  0.9998,  0.5027,\n",
            "        -0.7540, -0.9108,  0.7906, -0.3457,  0.0404, -0.9708, -0.3763,  0.7594,\n",
            "         0.8499,  0.5496,  0.4730, -0.6835,  0.5530, -0.0986,  0.2123,  0.5363,\n",
            "        -0.9375, -0.6883, -0.3779,  0.5416, -0.3023, -0.9799,  0.9653, -0.6142,\n",
            "         0.8725,  1.0000,  0.8374, -0.9102,  0.6916,  0.5495, -0.0899,  1.0000,\n",
            "         0.8336, -0.9928, -0.3907,  0.7392, -0.7780, -0.7848,  0.9998, -0.4332,\n",
            "        -0.7806, -0.4894,  0.9958, -0.9962,  0.9972, -0.9041, -0.9883,  0.9677,\n",
            "         0.9287, -0.7448, -0.8817,  0.3989, -0.4452,  0.5061, -0.8925,  0.8321,\n",
            "         0.5300, -0.3366,  0.8978, -0.6974, -0.3865,  0.6227, -0.8417, -0.3478,\n",
            "         0.9306,  0.7275, -0.4998,  0.4550, -0.4347, -0.8530, -0.9779,  0.6490,\n",
            "         1.0000, -0.4526,  0.9228, -0.1667, -0.2652,  0.1739,  0.6873,  0.7250,\n",
            "        -0.4742, -0.8572,  0.7912, -0.7896, -0.9971,  0.7216,  0.4532, -0.4758,\n",
            "         1.0000,  0.4803,  0.5409,  0.5861,  0.9978,  0.2296,  0.5476,  0.8724,\n",
            "         0.9955, -0.5520,  0.4091,  0.8045, -0.8801, -0.5822, -0.7574,  0.2184,\n",
            "        -0.9561, -0.1883, -0.9775,  0.9730,  0.9753,  0.6173,  0.4500,  0.5953,\n",
            "         1.0000, -0.9655,  0.5469,  0.1002,  0.4280, -1.0000, -0.7395, -0.6561,\n",
            "        -0.3198, -0.7566, -0.4694,  0.3543, -0.9873,  0.6826,  0.7176, -0.9584,\n",
            "        -0.9923, -0.5377,  0.7408,  0.3980, -0.9975, -0.7763, -0.6651,  0.6603,\n",
            "        -0.4977, -0.9409, -0.0990, -0.5695,  0.5808, -0.5232,  0.4459,  0.7697,\n",
            "         0.8364, -0.8966, -0.5752, -0.4028, -0.8188,  0.8846, -0.8459, -0.9330,\n",
            "        -0.3878,  1.0000, -0.5669,  0.7529,  0.7192,  0.7131, -0.3338,  0.3525,\n",
            "         0.9143,  0.4427, -0.6321, -0.9247, -0.1811, -0.5840,  0.7255,  0.7757,\n",
            "         0.4548,  0.8668,  0.9370,  0.6640, -0.3388,  0.4535,  0.9990, -0.4830,\n",
            "        -0.3964, -0.6138, -0.3163, -0.5309,  0.1480,  1.0000,  0.5501,  0.7256,\n",
            "        -0.9967, -0.9032, -0.9631,  1.0000,  0.9248, -0.8792,  0.7927,  0.5388,\n",
            "        -0.4510,  0.7583, -0.5212, -0.4956,  0.5859,  0.3236,  0.9840, -0.6027,\n",
            "        -0.9915, -0.7233,  0.7011, -0.9750,  1.0000, -0.7674, -0.4819, -0.4785,\n",
            "        -0.8690, -0.5441,  0.2600, -0.9869, -0.5477,  0.4174,  0.9849,  0.6119,\n",
            "        -0.4170, -0.9499,  0.9294,  0.8259, -0.8844, -0.9540,  0.9909, -0.9497,\n",
            "         0.7958,  1.0000,  0.6104,  0.6617,  0.5050, -0.6504,  0.5849, -0.8070,\n",
            "         0.8616, -0.9334, -0.5726, -0.5095,  0.5320, -0.6102, -0.8640,  0.8248,\n",
            "         0.4557, -0.3951, -0.7334, -0.3584,  0.6046,  0.8220, -0.4761, -0.3472,\n",
            "         0.4806, -0.2769, -0.9046, -0.7239, -0.6287, -1.0000,  0.7050, -1.0000,\n",
            "         0.7958, -0.1313, -0.4410,  0.8960,  0.8833,  0.5672, -0.8374, -0.9243,\n",
            "         0.4798,  0.7595, -0.5064, -0.6673, -0.8398,  0.4481, -0.3633,  0.5201,\n",
            "        -0.7856,  0.7009, -0.5696,  1.0000,  0.4031, -0.7019, -0.9338,  0.5442,\n",
            "        -0.4941,  1.0000, -0.8635, -0.9870,  0.5302, -0.8848, -0.6822,  0.5738,\n",
            "         0.2612, -0.8611, -0.9690,  0.8940,  0.7314, -0.4576,  0.7091, -0.4678,\n",
            "        -0.7213,  0.2568,  0.9571,  0.9936,  0.6433,  0.9308, -0.8362, -0.4036,\n",
            "         0.9773,  0.5381,  0.6053,  0.4053,  1.0000,  0.6075, -0.9252, -0.0024,\n",
            "        -0.9636, -0.4263, -0.9173,  0.5544,  0.4375,  0.9398, -0.5473,  0.9793,\n",
            "        -0.8592,  0.3338, -0.8074, -0.1622,  0.5170, -0.9652, -0.9929, -0.9906,\n",
            "         0.8284, -0.6117, -0.2977,  0.5557,  0.4650,  0.6681,  0.6879, -1.0000,\n",
            "         0.9653,  0.5624,  0.8593,  0.9843,  0.7658,  0.8531,  0.5488, -0.9956,\n",
            "        -0.9504, -0.5495, -0.5722,  0.7924,  0.8466,  0.8529,  0.5934, -0.5925,\n",
            "        -0.7866, -0.2445, -0.9658, -0.9964,  0.6090, -0.6741, -0.9084,  0.9767,\n",
            "        -0.6059, -0.2328,  0.1167, -0.8828,  0.9063,  0.8659,  0.5859,  0.3445,\n",
            "         0.7365,  0.9114,  0.9122,  0.9921, -0.7763,  0.8130, -0.9189,  0.6213,\n",
            "         0.9344, -0.9726,  0.3529,  0.8038, -0.4461,  0.6247, -0.5460, -0.8670,\n",
            "         0.9233, -0.4567,  0.7609, -0.4135, -0.2023, -0.6304, -0.4361, -0.7820,\n",
            "        -0.7965,  0.4244,  0.5427,  0.9345,  0.8620, -0.3576, -0.8323, -0.3435,\n",
            "        -0.6829, -0.9352,  0.8648, -0.2718,  0.0689,  0.8295,  0.1120,  0.9796,\n",
            "         0.3087, -0.5860, -0.6223, -0.8646,  0.8554, -0.8512, -0.6558, -0.7963,\n",
            "         0.8880,  0.5156,  1.0000, -0.7475, -0.8632, -0.8350, -0.6349,  0.5665,\n",
            "        -0.6627, -1.0000,  0.6180, -0.7850,  0.4638, -0.7095,  0.8091, -0.8099,\n",
            "        -0.9398, -0.5588,  0.8851,  0.8854, -0.6577, -0.8643,  0.4093, -0.9401,\n",
            "         0.9868,  0.9053, -0.8184,  0.6973,  0.5057, -0.7194, -0.8111,  0.8590],\n",
            "       grad_fn=<SqueezeBackward1>)\n",
            "\n"
          ]
        }
      ],
      "source": [
        "# 5.2 Get BERT Output\n",
        "\n",
        "# Pass the input through BERT\n",
        "outputs = model(**inputs)\n",
        "\n",
        "# Outputs contain 'last_hidden_state' and 'pooler_output'\n",
        "last_hidden_state = outputs.last_hidden_state\n",
        "pooled_output = outputs.pooler_output\n",
        "\n",
        "print(\"Last Hidden State Shape:\", last_hidden_state.shape)  # (batch_size, seq_len, hidden_size)\n",
        "print(\"Pooled Output Shape:\", pooled_output.shape)  # (batch_size, hidden_size)\n",
        "print()\n",
        "\n",
        "# The pooler_output can be used as a fixed-size embedding for the sentence:\n",
        "sentence_embedding = pooled_output.squeeze(0)  # Remove batch dimension\n",
        "print(\"Sentence Embedding (768-dim):\", sentence_embedding)\n",
        "print()"
      ],
      "metadata": {
        "pycharm": {
          "name": "#%%\n"
        },
        "colab": {
          "base_uri": "https://localhost:8080/"
        },
        "id": "PCS8thzDu_SB",
        "outputId": "a029455c-a90c-437d-b042-56608744196b"
      }
    },
    {
      "cell_type": "code",
      "execution_count": 22,
      "outputs": [
        {
          "output_type": "stream",
          "name": "stdout",
          "text": [
            "Token Embeddings Shape: torch.Size([17, 768])\n",
            "First Token Embedding: tensor([-5.9449e-01, -1.4600e-01, -4.9150e-01,  8.9375e-02, -3.3897e-01,\n",
            "         2.3716e-02,  4.0410e-01,  9.6559e-01, -2.6545e-01,  1.6714e-01,\n",
            "        -5.2128e-02, -4.4273e-01, -2.4112e-01,  9.3894e-01,  3.1113e-01,\n",
            "         3.0133e-02, -4.3646e-01,  7.7356e-01,  3.3667e-01,  2.0074e-01,\n",
            "        -1.9550e-01, -8.9275e-01,  4.4156e-01,  3.8249e-01,  4.1533e-01,\n",
            "        -5.5003e-02, -4.6654e-02, -3.2453e-01, -6.3444e-02, -5.9779e-02,\n",
            "        -2.3659e-01, -4.2598e-02, -1.0019e-01, -6.8473e-02,  5.5173e-01,\n",
            "        -3.8214e-02, -2.4742e-01, -3.3074e-01,  3.0208e-01,  2.0757e-01,\n",
            "        -2.7058e-01, -4.0728e-01,  5.2700e-01,  9.4850e-02, -1.8823e-01,\n",
            "        -8.9372e-01, -2.6808e+00,  2.4461e-01, -3.0044e-01,  9.7514e-02,\n",
            "        -3.3243e-01,  4.3123e-01,  2.1552e-01,  8.0473e-01,  4.0600e-01,\n",
            "         5.0902e-01,  1.0342e-01,  5.5658e-01, -1.6712e-01,  1.5147e-01,\n",
            "        -3.2781e-01,  3.5046e-01, -4.1866e-01,  3.5627e-01, -9.4907e-02,\n",
            "         4.7271e-01, -6.9475e-02,  2.0019e-01, -7.9443e-01,  1.0523e-01,\n",
            "        -1.0103e+00, -2.6300e-01,  2.3084e-01,  4.0313e-01, -1.2990e-02,\n",
            "        -6.3772e-01, -3.4026e-01, -7.5589e-02, -5.2232e-01, -6.6416e-02,\n",
            "         2.7213e-02,  5.6956e-01,  3.5878e-01, -1.7519e-01,  4.9179e-01,\n",
            "         2.0635e-01, -3.4316e-01,  7.0379e-04,  2.9115e-01,  1.6851e-01,\n",
            "        -5.0885e-01,  4.1941e-01, -7.8816e-02,  3.6294e-01,  2.5842e-01,\n",
            "        -2.1240e-01,  1.6945e-01, -1.7939e-02, -2.2403e-01, -6.0623e-02,\n",
            "        -9.0336e-03, -1.0883e-01,  6.6169e-01,  2.6742e-02,  1.9810e-01,\n",
            "         9.2517e-02, -2.0129e-01, -5.0949e-01,  4.0278e-01, -2.2452e+00,\n",
            "         3.6350e-01,  4.3401e-01, -5.9030e-01, -2.1542e-01,  1.7126e-01,\n",
            "         7.3457e-01,  3.9117e-01, -4.0290e-01,  1.6018e-01, -2.9846e-01,\n",
            "        -3.4282e-01, -1.0664e-01, -6.1541e-01, -4.3504e-01, -2.9408e-01,\n",
            "        -3.7225e-01,  2.2096e-01, -7.0289e-02,  5.1227e-01, -2.5433e-01,\n",
            "        -3.3629e-02,  5.0353e-01,  2.6240e-01, -1.3281e-01,  2.5999e-01,\n",
            "         7.3843e-02,  6.3691e-01, -1.6084e-02, -1.6326e-02,  1.1925e-01,\n",
            "        -6.3507e-01, -4.3210e-01, -2.6318e+00, -4.8805e-01,  9.7416e-01,\n",
            "         2.8475e-02, -9.7687e-02, -1.2725e-01,  9.8580e-02, -3.8477e-01,\n",
            "         4.7667e-01,  1.8079e-01, -3.1471e-01,  1.5996e-01, -1.6607e-01,\n",
            "        -8.7264e-02,  1.9803e-01,  1.6698e-01,  7.7970e-01,  5.1212e-01,\n",
            "         2.9691e-02, -4.1643e-01,  5.3441e-01, -2.6254e-01, -5.1729e-01,\n",
            "         4.5120e-01,  1.0888e+00, -1.2696e-01, -2.5270e-01,  3.7792e-01,\n",
            "        -7.4927e-01,  5.9868e-02,  1.0935e+00, -6.1846e-01,  5.7118e-01,\n",
            "        -3.5250e-01,  2.8949e-01,  1.8342e-01,  7.8637e-01,  8.8440e-02,\n",
            "        -5.8680e-01,  2.6163e-01,  2.6599e-01,  6.5236e-01, -1.2675e-01,\n",
            "        -4.1002e-01,  1.7454e-01,  1.0674e-01, -7.0335e-01,  2.3384e-01,\n",
            "        -8.3691e-02, -2.8649e-01,  9.3670e-02,  1.9077e-01,  6.6559e-02,\n",
            "         2.8051e-01, -1.8204e-01, -5.7191e-01,  1.7884e-01,  4.4431e-01,\n",
            "        -8.2247e-01, -2.9758e-01,  9.3362e-02, -3.5257e-01, -2.3656e-01,\n",
            "         3.2288e+00,  4.1238e-01, -6.5995e-01,  3.7911e-01,  1.1679e-01,\n",
            "         4.7069e-01, -5.2249e-01,  5.8870e-02, -7.6780e-02,  2.8505e-02,\n",
            "        -2.4528e-01, -3.4227e-01, -7.3987e-02, -1.1673e-01, -5.2981e-01,\n",
            "        -3.4974e-01,  4.5467e-01, -1.2475e-01, -2.1145e-01,  1.3134e-01,\n",
            "         2.7321e-01,  1.2322e-01,  5.9125e-01, -1.9173e-01, -2.8430e-01,\n",
            "         1.5739e-01, -2.8190e-01, -6.5295e-01, -7.9145e-02, -9.6629e-01,\n",
            "        -3.2611e-01, -2.8146e-01, -5.1761e-02,  7.7166e-01,  1.5249e-01,\n",
            "        -2.4205e-01,  3.5742e-01, -3.9786e-01,  2.3399e-01,  3.1931e-01,\n",
            "         3.4218e-01,  4.3643e-01, -2.8108e-01,  9.2202e-01,  1.2207e-01,\n",
            "        -1.0483e-01, -1.9997e-01,  1.9197e-01,  8.7714e-02,  2.5708e-01,\n",
            "        -1.7458e-01,  5.3736e-01,  1.6205e-01,  1.7167e-02, -4.0714e-01,\n",
            "        -1.5286e-01, -2.2447e-01,  1.5014e-01,  6.3979e-02, -3.6135e-01,\n",
            "        -4.8525e-01,  3.8864e-01, -3.1316e-01, -2.3142e-01, -1.3529e-01,\n",
            "        -4.8771e-01, -1.7674e-01,  1.1156e-01, -3.5505e+00,  6.1175e-02,\n",
            "         5.8917e-02,  5.2366e-01,  3.7473e-02, -2.8145e-01,  1.1999e-01,\n",
            "         6.3668e-01,  5.2538e-01, -7.6522e-01, -2.9714e-01, -7.3096e-02,\n",
            "        -6.7652e-02,  4.9787e-01, -5.1575e-01,  4.3899e-01,  2.1637e-02,\n",
            "        -7.0321e-01, -4.5910e-01, -2.9634e-01,  5.7678e-01, -1.5619e-01,\n",
            "        -1.8181e-01,  1.7452e-01, -2.2693e-01, -1.8084e-01, -7.8343e-01,\n",
            "        -6.0870e-01, -4.7275e-01, -4.0691e-01,  2.6348e-01,  3.3555e-01,\n",
            "        -1.0117e-01,  3.6382e-01, -3.1916e-01, -2.5175e+00,  7.3318e-01,\n",
            "        -1.9049e-01, -4.5958e-01,  6.8341e-01, -1.7442e-01,  3.8754e-01,\n",
            "        -5.8478e-02, -6.3825e-01, -4.4112e-01,  4.2697e-01, -4.9829e-01,\n",
            "        -2.4805e-01,  5.6160e-01,  2.8987e-01,  9.4924e-01,  9.1844e-01,\n",
            "        -6.0620e-01,  2.4277e-01,  6.9148e-01,  3.5078e-01, -9.4842e-02,\n",
            "        -3.4665e-01, -1.4872e-01,  5.1255e-01,  5.4370e-01, -6.9467e-01,\n",
            "        -1.7605e-01, -6.6253e-01, -3.1398e-01,  3.4439e-01, -3.9570e-02,\n",
            "        -1.6898e-01, -5.5846e-01,  2.5751e-01,  1.7715e-01, -6.3721e-02,\n",
            "        -1.5166e-01, -3.3479e-02,  2.4614e-01,  1.6555e-01,  6.2348e-01,\n",
            "         1.7872e-01,  3.2948e-01,  8.4941e-01,  3.7864e-02, -3.5449e-01,\n",
            "        -1.4434e-01, -2.8433e-02,  5.0653e-02,  1.2715e-01,  3.2908e-01,\n",
            "         9.4912e-01,  2.1943e-01, -3.7367e-01, -6.3852e-01,  8.3247e-01,\n",
            "        -4.4193e-03, -2.1749e-01,  4.6006e-01,  3.1569e-01,  6.8418e-02,\n",
            "         1.3626e-01, -1.8579e-01,  1.4053e-01, -5.0135e-01,  5.7065e-01,\n",
            "        -1.1036e-01, -3.9865e-01, -9.5910e-02, -7.0986e-02,  3.9722e-01,\n",
            "        -8.4957e-01, -8.9453e-01, -3.8104e-01, -7.8463e-01, -2.1697e-01,\n",
            "        -6.0049e-02, -7.7152e-02, -1.0106e-01, -5.4571e-01,  3.5423e-01,\n",
            "        -6.5616e-01, -1.0463e-02, -3.0814e-01, -2.9315e-01, -2.5565e-02,\n",
            "         2.7587e-01, -6.2215e-01, -6.0950e-01, -3.7661e-01,  4.8079e-02,\n",
            "         8.7079e-01,  5.0408e-03, -1.0540e-01,  1.8933e-01,  2.7308e-01,\n",
            "        -3.7995e-01,  6.3700e-02, -1.2298e-01, -6.5541e-01, -5.5014e-01,\n",
            "        -1.7205e-01,  5.2123e-01, -4.4907e-01, -1.6890e-01, -1.1612e-01,\n",
            "         5.1438e-01,  9.8206e-02,  1.0801e-01, -6.8462e-01, -5.1403e-01,\n",
            "         1.1134e-01, -2.2118e-01,  9.8698e-01, -1.3530e-01, -4.7304e-02,\n",
            "         1.0647e+00,  2.8913e-01,  8.3490e-02,  5.0150e-01,  3.3171e-01,\n",
            "         5.7060e-02, -3.4386e-01, -1.7763e-01, -3.6712e-02, -1.2357e-01,\n",
            "        -5.6617e-02, -1.9983e-01, -1.9554e-02, -1.8826e-01, -9.8636e-02,\n",
            "        -3.2257e-01, -1.3461e-01, -3.8479e-01,  3.0637e-01, -2.2664e-01,\n",
            "         3.3031e-01, -4.3968e-02,  1.0864e-01,  3.5423e-01,  5.2372e-01,\n",
            "         4.4510e-02,  3.0014e-02,  1.6091e-01,  4.8408e-01,  2.7737e-01,\n",
            "         5.7053e-01, -1.9408e-02,  2.5401e-01,  2.1803e-02, -2.4845e-02,\n",
            "        -3.3162e-01, -6.7176e-01, -2.3763e-01,  3.4877e-01,  1.2569e-01,\n",
            "         6.1715e-01,  8.5408e-02, -3.0848e-01,  7.1205e-02, -5.1095e-03,\n",
            "        -1.7181e+00,  2.9761e-01,  1.5432e-01,  2.6692e-01,  2.6084e-01,\n",
            "         1.9280e-03, -4.1704e-01,  5.3338e-01,  3.3355e-01, -3.9909e-03,\n",
            "        -3.0920e-02, -6.7847e-01,  9.8884e-02, -3.1924e-01,  6.3142e-01,\n",
            "        -1.0857e-02, -2.2812e-01, -1.8703e-01,  5.4080e-01, -5.1921e-01,\n",
            "        -3.9649e-01,  4.3519e-01, -7.0492e-02, -1.9877e-01, -1.1742e-01,\n",
            "         7.9946e-03,  5.0624e-01, -2.4973e-02,  9.1953e-01,  1.2006e-01,\n",
            "        -5.7116e-01,  1.5603e-02, -7.3951e-01, -4.9185e-01,  4.6676e-02,\n",
            "         6.7816e-02,  1.5607e-01,  1.5133e-01,  1.1960e-01,  3.2124e-01,\n",
            "        -4.2942e-02,  2.8444e-01,  4.9989e-01, -2.9586e-01,  6.7595e-03,\n",
            "         7.6934e-02, -4.3634e-01, -5.0633e-02, -3.8829e-01, -8.5558e-03,\n",
            "         6.6662e-01,  1.3076e-01, -1.2585e-01, -1.1500e-01,  4.2667e-01,\n",
            "        -2.0474e-01, -4.5283e-01,  4.3741e-01, -6.2051e-01,  1.1216e-01,\n",
            "         8.1668e-01, -1.1446e+00, -4.3730e-01,  5.7478e-01, -1.9935e-01,\n",
            "        -7.3474e-01, -1.3540e-03, -9.2420e-01, -3.5415e-02,  2.4745e-01,\n",
            "         1.3330e-01,  2.2153e-01, -1.9057e-01,  4.7104e-01,  1.5532e-01,\n",
            "        -2.1258e-01,  1.4273e-01, -4.3893e-01,  6.2306e-01, -2.9898e-01,\n",
            "         2.8661e-01, -2.3136e-02, -3.2077e-01,  3.7578e-01,  6.7585e-01,\n",
            "         3.5828e-01, -5.1626e-01, -1.3648e-01, -4.0497e-01, -1.4819e-01,\n",
            "        -5.6942e-01, -4.5922e-01,  2.3590e-02,  1.3624e-04,  4.0422e-01,\n",
            "        -4.4238e-01, -3.7352e-01, -4.4770e-02,  4.1988e-01, -6.3516e-03,\n",
            "        -6.1984e-02,  1.2525e+00,  1.1507e-01, -4.2577e-01,  7.8193e-02,\n",
            "         6.1812e-02,  6.4363e-01, -6.3069e-01, -2.5717e-01,  4.4761e-02,\n",
            "         3.2962e-01, -2.1908e-01, -2.0252e-01, -9.3843e-02,  5.2803e-01,\n",
            "        -2.4479e-01, -3.1940e-02, -4.1119e-01,  2.0455e+00,  2.1029e-01,\n",
            "         3.0357e-01, -6.5220e-01,  5.7438e-01,  3.0305e-01, -4.2512e-01,\n",
            "         4.9283e-01, -4.7299e-01,  2.9041e-01, -1.4801e-01, -2.6007e-01,\n",
            "         1.6379e-01,  5.2411e-01,  6.7001e-01,  3.0147e-02,  5.5122e-03,\n",
            "        -2.3934e-01, -7.1644e-01,  3.8765e-01, -7.2421e-01,  4.6594e-01,\n",
            "         4.3929e-01, -2.7116e-01,  5.3141e-01,  8.3604e-02, -1.0512e-01,\n",
            "        -8.1106e-02,  1.6580e-01, -3.0778e-02, -1.3962e-01,  5.5882e-01,\n",
            "         2.1356e-01,  9.9347e-01, -7.6865e-01,  4.7234e-01, -6.4660e-03,\n",
            "        -2.1836e-02, -1.1437e-01,  2.1983e-01, -6.7804e-01, -1.1733e+00,\n",
            "         4.0525e-01,  3.2118e-01,  2.2050e-01,  7.7805e-01,  7.2565e-01,\n",
            "        -2.5978e-01,  2.1261e-02,  3.1989e-01,  9.4842e-02, -4.0350e-02,\n",
            "        -3.4210e-01,  1.9065e-01, -9.5265e-01, -2.7694e-01, -2.4199e-02,\n",
            "         9.1802e-02, -2.6557e-01,  3.7922e-01,  1.8501e-01,  7.9271e-02,\n",
            "         2.2225e-01,  9.6845e-02,  2.9314e-02, -3.2363e-01, -3.3280e-01,\n",
            "         6.1644e-01, -1.3158e-01, -1.8208e-01,  2.8194e-01,  2.0595e-01,\n",
            "         3.7269e-01,  5.1480e-01,  5.2435e-01, -3.7936e-01,  4.4235e-01,\n",
            "         1.7442e-02, -1.6718e-01, -2.5315e+00,  2.2699e-01,  6.5264e-01,\n",
            "         8.6864e-01,  2.7889e-01,  4.2544e-01,  2.5305e-01,  1.4472e-01,\n",
            "        -1.0069e-01, -5.2014e-01,  7.1936e-02,  6.0024e-01,  9.5146e-01,\n",
            "         5.6686e-01,  4.7178e-04,  2.8961e-01,  5.2541e-01, -5.7246e-01,\n",
            "        -2.3840e-01, -8.7629e-02,  3.8358e-01, -3.6308e-01, -6.2156e-01,\n",
            "        -3.3862e-01, -3.3774e-01,  2.5001e-01,  6.4132e-01, -3.1732e-01,\n",
            "        -4.3187e-01,  2.4711e-01, -6.5754e-01,  7.9178e-01,  3.1317e-01,\n",
            "         1.6773e-01,  6.9833e-01, -1.5383e-01, -1.9591e-01, -2.3711e-01,\n",
            "         2.0854e-01,  1.7712e-01,  3.1317e-01,  1.0231e+00, -5.4232e-01,\n",
            "        -2.8793e-01,  7.9283e-02, -1.5957e-01,  3.1467e-01, -2.0611e-03,\n",
            "         4.8803e-01, -7.8427e-01, -1.0681e-01, -6.3224e-01, -1.7367e-01,\n",
            "         2.0128e-01,  4.1054e-01,  7.4695e-02,  1.1039e-01,  4.8129e-01,\n",
            "         1.0480e-01, -2.9697e-01,  8.4707e-02,  5.8579e-01, -9.4545e-02,\n",
            "         3.8897e-01,  1.8352e-01, -3.1916e-01, -3.1232e-01,  3.4182e-01,\n",
            "         2.3107e-02, -7.1885e-01, -2.5640e-02, -4.1323e-01,  2.6476e-01,\n",
            "        -4.9075e-02,  1.2879e-01, -6.0153e-03, -6.2703e-03,  3.8587e-01,\n",
            "         7.7437e-01,  3.2945e-01, -7.6533e-01, -5.1398e-01, -5.3747e-01,\n",
            "         2.3555e-02,  1.1532e-01, -6.7000e+00, -2.4469e-01, -4.7877e-01,\n",
            "        -2.2406e-01,  5.8599e-01,  2.1300e-01,  3.3217e-02,  2.1152e-01,\n",
            "        -9.4220e-02,  2.2536e-01,  7.6708e-02, -2.4637e-01, -3.7474e-02,\n",
            "        -1.3296e-01,  6.0154e-01,  2.0346e-01], grad_fn=<SelectBackward0>)\n",
            "\n"
          ]
        }
      ],
      "source": [
        "# 5.3 Token-Level Embeddings\n",
        "\n",
        "# Extract embeddings for each token\n",
        "token_embeddings = last_hidden_state.squeeze(0)  # Remove batch dimension\n",
        "print(\"Token Embeddings Shape:\", token_embeddings.shape)  # (seq_len, hidden_size)\n",
        "\n",
        "# Example: Embedding for the first token\n",
        "print(\"First Token Embedding:\", token_embeddings[0])\n",
        "print()"
      ],
      "metadata": {
        "pycharm": {
          "name": "#%%\n"
        },
        "colab": {
          "base_uri": "https://localhost:8080/"
        },
        "id": "-9yYOx9ku_SB",
        "outputId": "874c6baf-4da3-4111-f3ff-b6f99a00a848"
      }
    },
    {
      "cell_type": "code",
      "execution_count": 23,
      "outputs": [
        {
          "output_type": "stream",
          "name": "stdout",
          "text": [
            "Cosine Similarity between sentences: 0.9922517538070679\n",
            "\n"
          ]
        }
      ],
      "source": [
        "# 5.4 Compute Sentence Similarity\n",
        "\n",
        "# Encode two sentences and compute their similarity\n",
        "sentence2 = \"Ames is home to Iowa State University, a prominent research institution.\"\n",
        "inputs2 = tokenizer(sentence2, return_tensors=\"pt\", add_special_tokens=True)\n",
        "\n",
        "# Get embeddings for both sentences\n",
        "outputs1 = model(**inputs)\n",
        "outputs2 = model(**inputs2)\n",
        "\n",
        "embedding1 = outputs1.pooler_output\n",
        "embedding2 = outputs2.pooler_output\n",
        "\n",
        "# Compute cosine similarity\n",
        "cosine_similarity = torch.nn.functional.cosine_similarity(embedding1, embedding2)\n",
        "print(\"Cosine Similarity between sentences:\", cosine_similarity.item())\n",
        "print()"
      ],
      "metadata": {
        "pycharm": {
          "name": "#%%\n"
        },
        "colab": {
          "base_uri": "https://localhost:8080/"
        },
        "id": "ZR8qov3zu_SB",
        "outputId": "7033a6af-ea53-4683-88b5-6b5d00862b4e"
      }
    }
  ],
  "metadata": {
    "kernelspec": {
      "display_name": "Python (nlp_course)",
      "language": "python",
      "name": "nlp_course"
    },
    "language_info": {
      "codemirror_mode": {
        "name": "ipython",
        "version": 3
      },
      "file_extension": ".py",
      "mimetype": "text/x-python",
      "name": "python",
      "nbconvert_exporter": "python",
      "pygments_lexer": "ipython3",
      "version": "3.10.16"
    },
    "colab": {
      "provenance": []
    },
    "widgets": {
      "application/vnd.jupyter.widget-state+json": {
        "dd1df495614847f3a1f3082eb8e57102": {
          "model_module": "@jupyter-widgets/controls",
          "model_name": "HBoxModel",
          "model_module_version": "1.5.0",
          "state": {
            "_dom_classes": [],
            "_model_module": "@jupyter-widgets/controls",
            "_model_module_version": "1.5.0",
            "_model_name": "HBoxModel",
            "_view_count": null,
            "_view_module": "@jupyter-widgets/controls",
            "_view_module_version": "1.5.0",
            "_view_name": "HBoxView",
            "box_style": "",
            "children": [
              "IPY_MODEL_6dd24fd0afd448caa338d6bca8cd8330",
              "IPY_MODEL_82e5c57159c74156bf02008ec0151584",
              "IPY_MODEL_80b66f3d9d7d47c6bb7e35e713a1b207"
            ],
            "layout": "IPY_MODEL_c12869ba8ee14ea8b748a802d073ea4c"
          }
        },
        "6dd24fd0afd448caa338d6bca8cd8330": {
          "model_module": "@jupyter-widgets/controls",
          "model_name": "HTMLModel",
          "model_module_version": "1.5.0",
          "state": {
            "_dom_classes": [],
            "_model_module": "@jupyter-widgets/controls",
            "_model_module_version": "1.5.0",
            "_model_name": "HTMLModel",
            "_view_count": null,
            "_view_module": "@jupyter-widgets/controls",
            "_view_module_version": "1.5.0",
            "_view_name": "HTMLView",
            "description": "",
            "description_tooltip": null,
            "layout": "IPY_MODEL_ccac9271a8f84f9eb71a1f512113a394",
            "placeholder": "​",
            "style": "IPY_MODEL_52f40afbb59d4af8a047829dba6b2224",
            "value": "tokenizer_config.json: 100%"
          }
        },
        "82e5c57159c74156bf02008ec0151584": {
          "model_module": "@jupyter-widgets/controls",
          "model_name": "FloatProgressModel",
          "model_module_version": "1.5.0",
          "state": {
            "_dom_classes": [],
            "_model_module": "@jupyter-widgets/controls",
            "_model_module_version": "1.5.0",
            "_model_name": "FloatProgressModel",
            "_view_count": null,
            "_view_module": "@jupyter-widgets/controls",
            "_view_module_version": "1.5.0",
            "_view_name": "ProgressView",
            "bar_style": "success",
            "description": "",
            "description_tooltip": null,
            "layout": "IPY_MODEL_3901f1ad6389497e9d3168180c70c723",
            "max": 48,
            "min": 0,
            "orientation": "horizontal",
            "style": "IPY_MODEL_4a1a307716d548b6858c880447d1053f",
            "value": 48
          }
        },
        "80b66f3d9d7d47c6bb7e35e713a1b207": {
          "model_module": "@jupyter-widgets/controls",
          "model_name": "HTMLModel",
          "model_module_version": "1.5.0",
          "state": {
            "_dom_classes": [],
            "_model_module": "@jupyter-widgets/controls",
            "_model_module_version": "1.5.0",
            "_model_name": "HTMLModel",
            "_view_count": null,
            "_view_module": "@jupyter-widgets/controls",
            "_view_module_version": "1.5.0",
            "_view_name": "HTMLView",
            "description": "",
            "description_tooltip": null,
            "layout": "IPY_MODEL_9a9d39cc09334bd5bd8fafde36f403a6",
            "placeholder": "​",
            "style": "IPY_MODEL_bf4a643ecda645bfac5af3f2ebfd08b2",
            "value": " 48.0/48.0 [00:00&lt;00:00, 3.75kB/s]"
          }
        },
        "c12869ba8ee14ea8b748a802d073ea4c": {
          "model_module": "@jupyter-widgets/base",
          "model_name": "LayoutModel",
          "model_module_version": "1.2.0",
          "state": {
            "_model_module": "@jupyter-widgets/base",
            "_model_module_version": "1.2.0",
            "_model_name": "LayoutModel",
            "_view_count": null,
            "_view_module": "@jupyter-widgets/base",
            "_view_module_version": "1.2.0",
            "_view_name": "LayoutView",
            "align_content": null,
            "align_items": null,
            "align_self": null,
            "border": null,
            "bottom": null,
            "display": null,
            "flex": null,
            "flex_flow": null,
            "grid_area": null,
            "grid_auto_columns": null,
            "grid_auto_flow": null,
            "grid_auto_rows": null,
            "grid_column": null,
            "grid_gap": null,
            "grid_row": null,
            "grid_template_areas": null,
            "grid_template_columns": null,
            "grid_template_rows": null,
            "height": null,
            "justify_content": null,
            "justify_items": null,
            "left": null,
            "margin": null,
            "max_height": null,
            "max_width": null,
            "min_height": null,
            "min_width": null,
            "object_fit": null,
            "object_position": null,
            "order": null,
            "overflow": null,
            "overflow_x": null,
            "overflow_y": null,
            "padding": null,
            "right": null,
            "top": null,
            "visibility": null,
            "width": null
          }
        },
        "ccac9271a8f84f9eb71a1f512113a394": {
          "model_module": "@jupyter-widgets/base",
          "model_name": "LayoutModel",
          "model_module_version": "1.2.0",
          "state": {
            "_model_module": "@jupyter-widgets/base",
            "_model_module_version": "1.2.0",
            "_model_name": "LayoutModel",
            "_view_count": null,
            "_view_module": "@jupyter-widgets/base",
            "_view_module_version": "1.2.0",
            "_view_name": "LayoutView",
            "align_content": null,
            "align_items": null,
            "align_self": null,
            "border": null,
            "bottom": null,
            "display": null,
            "flex": null,
            "flex_flow": null,
            "grid_area": null,
            "grid_auto_columns": null,
            "grid_auto_flow": null,
            "grid_auto_rows": null,
            "grid_column": null,
            "grid_gap": null,
            "grid_row": null,
            "grid_template_areas": null,
            "grid_template_columns": null,
            "grid_template_rows": null,
            "height": null,
            "justify_content": null,
            "justify_items": null,
            "left": null,
            "margin": null,
            "max_height": null,
            "max_width": null,
            "min_height": null,
            "min_width": null,
            "object_fit": null,
            "object_position": null,
            "order": null,
            "overflow": null,
            "overflow_x": null,
            "overflow_y": null,
            "padding": null,
            "right": null,
            "top": null,
            "visibility": null,
            "width": null
          }
        },
        "52f40afbb59d4af8a047829dba6b2224": {
          "model_module": "@jupyter-widgets/controls",
          "model_name": "DescriptionStyleModel",
          "model_module_version": "1.5.0",
          "state": {
            "_model_module": "@jupyter-widgets/controls",
            "_model_module_version": "1.5.0",
            "_model_name": "DescriptionStyleModel",
            "_view_count": null,
            "_view_module": "@jupyter-widgets/base",
            "_view_module_version": "1.2.0",
            "_view_name": "StyleView",
            "description_width": ""
          }
        },
        "3901f1ad6389497e9d3168180c70c723": {
          "model_module": "@jupyter-widgets/base",
          "model_name": "LayoutModel",
          "model_module_version": "1.2.0",
          "state": {
            "_model_module": "@jupyter-widgets/base",
            "_model_module_version": "1.2.0",
            "_model_name": "LayoutModel",
            "_view_count": null,
            "_view_module": "@jupyter-widgets/base",
            "_view_module_version": "1.2.0",
            "_view_name": "LayoutView",
            "align_content": null,
            "align_items": null,
            "align_self": null,
            "border": null,
            "bottom": null,
            "display": null,
            "flex": null,
            "flex_flow": null,
            "grid_area": null,
            "grid_auto_columns": null,
            "grid_auto_flow": null,
            "grid_auto_rows": null,
            "grid_column": null,
            "grid_gap": null,
            "grid_row": null,
            "grid_template_areas": null,
            "grid_template_columns": null,
            "grid_template_rows": null,
            "height": null,
            "justify_content": null,
            "justify_items": null,
            "left": null,
            "margin": null,
            "max_height": null,
            "max_width": null,
            "min_height": null,
            "min_width": null,
            "object_fit": null,
            "object_position": null,
            "order": null,
            "overflow": null,
            "overflow_x": null,
            "overflow_y": null,
            "padding": null,
            "right": null,
            "top": null,
            "visibility": null,
            "width": null
          }
        },
        "4a1a307716d548b6858c880447d1053f": {
          "model_module": "@jupyter-widgets/controls",
          "model_name": "ProgressStyleModel",
          "model_module_version": "1.5.0",
          "state": {
            "_model_module": "@jupyter-widgets/controls",
            "_model_module_version": "1.5.0",
            "_model_name": "ProgressStyleModel",
            "_view_count": null,
            "_view_module": "@jupyter-widgets/base",
            "_view_module_version": "1.2.0",
            "_view_name": "StyleView",
            "bar_color": null,
            "description_width": ""
          }
        },
        "9a9d39cc09334bd5bd8fafde36f403a6": {
          "model_module": "@jupyter-widgets/base",
          "model_name": "LayoutModel",
          "model_module_version": "1.2.0",
          "state": {
            "_model_module": "@jupyter-widgets/base",
            "_model_module_version": "1.2.0",
            "_model_name": "LayoutModel",
            "_view_count": null,
            "_view_module": "@jupyter-widgets/base",
            "_view_module_version": "1.2.0",
            "_view_name": "LayoutView",
            "align_content": null,
            "align_items": null,
            "align_self": null,
            "border": null,
            "bottom": null,
            "display": null,
            "flex": null,
            "flex_flow": null,
            "grid_area": null,
            "grid_auto_columns": null,
            "grid_auto_flow": null,
            "grid_auto_rows": null,
            "grid_column": null,
            "grid_gap": null,
            "grid_row": null,
            "grid_template_areas": null,
            "grid_template_columns": null,
            "grid_template_rows": null,
            "height": null,
            "justify_content": null,
            "justify_items": null,
            "left": null,
            "margin": null,
            "max_height": null,
            "max_width": null,
            "min_height": null,
            "min_width": null,
            "object_fit": null,
            "object_position": null,
            "order": null,
            "overflow": null,
            "overflow_x": null,
            "overflow_y": null,
            "padding": null,
            "right": null,
            "top": null,
            "visibility": null,
            "width": null
          }
        },
        "bf4a643ecda645bfac5af3f2ebfd08b2": {
          "model_module": "@jupyter-widgets/controls",
          "model_name": "DescriptionStyleModel",
          "model_module_version": "1.5.0",
          "state": {
            "_model_module": "@jupyter-widgets/controls",
            "_model_module_version": "1.5.0",
            "_model_name": "DescriptionStyleModel",
            "_view_count": null,
            "_view_module": "@jupyter-widgets/base",
            "_view_module_version": "1.2.0",
            "_view_name": "StyleView",
            "description_width": ""
          }
        },
        "cc7456d477b942f782cff78e11e890f2": {
          "model_module": "@jupyter-widgets/controls",
          "model_name": "HBoxModel",
          "model_module_version": "1.5.0",
          "state": {
            "_dom_classes": [],
            "_model_module": "@jupyter-widgets/controls",
            "_model_module_version": "1.5.0",
            "_model_name": "HBoxModel",
            "_view_count": null,
            "_view_module": "@jupyter-widgets/controls",
            "_view_module_version": "1.5.0",
            "_view_name": "HBoxView",
            "box_style": "",
            "children": [
              "IPY_MODEL_fbcd6784651245e9b112d145a7de3d55",
              "IPY_MODEL_1aa59fd6f9df4264a056e0df32aad805",
              "IPY_MODEL_78a1a6a2876b4cbc9b9a93a28ba9a2b8"
            ],
            "layout": "IPY_MODEL_69a4727a0fe24ca3841f24faf2b282f7"
          }
        },
        "fbcd6784651245e9b112d145a7de3d55": {
          "model_module": "@jupyter-widgets/controls",
          "model_name": "HTMLModel",
          "model_module_version": "1.5.0",
          "state": {
            "_dom_classes": [],
            "_model_module": "@jupyter-widgets/controls",
            "_model_module_version": "1.5.0",
            "_model_name": "HTMLModel",
            "_view_count": null,
            "_view_module": "@jupyter-widgets/controls",
            "_view_module_version": "1.5.0",
            "_view_name": "HTMLView",
            "description": "",
            "description_tooltip": null,
            "layout": "IPY_MODEL_0e55a5696749459ba8ca39dc2fa34202",
            "placeholder": "​",
            "style": "IPY_MODEL_9bcd777e84464863a0186792d390aedf",
            "value": "vocab.txt: 100%"
          }
        },
        "1aa59fd6f9df4264a056e0df32aad805": {
          "model_module": "@jupyter-widgets/controls",
          "model_name": "FloatProgressModel",
          "model_module_version": "1.5.0",
          "state": {
            "_dom_classes": [],
            "_model_module": "@jupyter-widgets/controls",
            "_model_module_version": "1.5.0",
            "_model_name": "FloatProgressModel",
            "_view_count": null,
            "_view_module": "@jupyter-widgets/controls",
            "_view_module_version": "1.5.0",
            "_view_name": "ProgressView",
            "bar_style": "success",
            "description": "",
            "description_tooltip": null,
            "layout": "IPY_MODEL_280225f6325f465a8bdbcae4e8dd21e9",
            "max": 231508,
            "min": 0,
            "orientation": "horizontal",
            "style": "IPY_MODEL_292f19b021ba45c8a2bae2fb419be0e5",
            "value": 231508
          }
        },
        "78a1a6a2876b4cbc9b9a93a28ba9a2b8": {
          "model_module": "@jupyter-widgets/controls",
          "model_name": "HTMLModel",
          "model_module_version": "1.5.0",
          "state": {
            "_dom_classes": [],
            "_model_module": "@jupyter-widgets/controls",
            "_model_module_version": "1.5.0",
            "_model_name": "HTMLModel",
            "_view_count": null,
            "_view_module": "@jupyter-widgets/controls",
            "_view_module_version": "1.5.0",
            "_view_name": "HTMLView",
            "description": "",
            "description_tooltip": null,
            "layout": "IPY_MODEL_69684a08274043e391e5185a67ca42dc",
            "placeholder": "​",
            "style": "IPY_MODEL_99d55138619f4898977b5dda474c0966",
            "value": " 232k/232k [00:00&lt;00:00, 5.67MB/s]"
          }
        },
        "69a4727a0fe24ca3841f24faf2b282f7": {
          "model_module": "@jupyter-widgets/base",
          "model_name": "LayoutModel",
          "model_module_version": "1.2.0",
          "state": {
            "_model_module": "@jupyter-widgets/base",
            "_model_module_version": "1.2.0",
            "_model_name": "LayoutModel",
            "_view_count": null,
            "_view_module": "@jupyter-widgets/base",
            "_view_module_version": "1.2.0",
            "_view_name": "LayoutView",
            "align_content": null,
            "align_items": null,
            "align_self": null,
            "border": null,
            "bottom": null,
            "display": null,
            "flex": null,
            "flex_flow": null,
            "grid_area": null,
            "grid_auto_columns": null,
            "grid_auto_flow": null,
            "grid_auto_rows": null,
            "grid_column": null,
            "grid_gap": null,
            "grid_row": null,
            "grid_template_areas": null,
            "grid_template_columns": null,
            "grid_template_rows": null,
            "height": null,
            "justify_content": null,
            "justify_items": null,
            "left": null,
            "margin": null,
            "max_height": null,
            "max_width": null,
            "min_height": null,
            "min_width": null,
            "object_fit": null,
            "object_position": null,
            "order": null,
            "overflow": null,
            "overflow_x": null,
            "overflow_y": null,
            "padding": null,
            "right": null,
            "top": null,
            "visibility": null,
            "width": null
          }
        },
        "0e55a5696749459ba8ca39dc2fa34202": {
          "model_module": "@jupyter-widgets/base",
          "model_name": "LayoutModel",
          "model_module_version": "1.2.0",
          "state": {
            "_model_module": "@jupyter-widgets/base",
            "_model_module_version": "1.2.0",
            "_model_name": "LayoutModel",
            "_view_count": null,
            "_view_module": "@jupyter-widgets/base",
            "_view_module_version": "1.2.0",
            "_view_name": "LayoutView",
            "align_content": null,
            "align_items": null,
            "align_self": null,
            "border": null,
            "bottom": null,
            "display": null,
            "flex": null,
            "flex_flow": null,
            "grid_area": null,
            "grid_auto_columns": null,
            "grid_auto_flow": null,
            "grid_auto_rows": null,
            "grid_column": null,
            "grid_gap": null,
            "grid_row": null,
            "grid_template_areas": null,
            "grid_template_columns": null,
            "grid_template_rows": null,
            "height": null,
            "justify_content": null,
            "justify_items": null,
            "left": null,
            "margin": null,
            "max_height": null,
            "max_width": null,
            "min_height": null,
            "min_width": null,
            "object_fit": null,
            "object_position": null,
            "order": null,
            "overflow": null,
            "overflow_x": null,
            "overflow_y": null,
            "padding": null,
            "right": null,
            "top": null,
            "visibility": null,
            "width": null
          }
        },
        "9bcd777e84464863a0186792d390aedf": {
          "model_module": "@jupyter-widgets/controls",
          "model_name": "DescriptionStyleModel",
          "model_module_version": "1.5.0",
          "state": {
            "_model_module": "@jupyter-widgets/controls",
            "_model_module_version": "1.5.0",
            "_model_name": "DescriptionStyleModel",
            "_view_count": null,
            "_view_module": "@jupyter-widgets/base",
            "_view_module_version": "1.2.0",
            "_view_name": "StyleView",
            "description_width": ""
          }
        },
        "280225f6325f465a8bdbcae4e8dd21e9": {
          "model_module": "@jupyter-widgets/base",
          "model_name": "LayoutModel",
          "model_module_version": "1.2.0",
          "state": {
            "_model_module": "@jupyter-widgets/base",
            "_model_module_version": "1.2.0",
            "_model_name": "LayoutModel",
            "_view_count": null,
            "_view_module": "@jupyter-widgets/base",
            "_view_module_version": "1.2.0",
            "_view_name": "LayoutView",
            "align_content": null,
            "align_items": null,
            "align_self": null,
            "border": null,
            "bottom": null,
            "display": null,
            "flex": null,
            "flex_flow": null,
            "grid_area": null,
            "grid_auto_columns": null,
            "grid_auto_flow": null,
            "grid_auto_rows": null,
            "grid_column": null,
            "grid_gap": null,
            "grid_row": null,
            "grid_template_areas": null,
            "grid_template_columns": null,
            "grid_template_rows": null,
            "height": null,
            "justify_content": null,
            "justify_items": null,
            "left": null,
            "margin": null,
            "max_height": null,
            "max_width": null,
            "min_height": null,
            "min_width": null,
            "object_fit": null,
            "object_position": null,
            "order": null,
            "overflow": null,
            "overflow_x": null,
            "overflow_y": null,
            "padding": null,
            "right": null,
            "top": null,
            "visibility": null,
            "width": null
          }
        },
        "292f19b021ba45c8a2bae2fb419be0e5": {
          "model_module": "@jupyter-widgets/controls",
          "model_name": "ProgressStyleModel",
          "model_module_version": "1.5.0",
          "state": {
            "_model_module": "@jupyter-widgets/controls",
            "_model_module_version": "1.5.0",
            "_model_name": "ProgressStyleModel",
            "_view_count": null,
            "_view_module": "@jupyter-widgets/base",
            "_view_module_version": "1.2.0",
            "_view_name": "StyleView",
            "bar_color": null,
            "description_width": ""
          }
        },
        "69684a08274043e391e5185a67ca42dc": {
          "model_module": "@jupyter-widgets/base",
          "model_name": "LayoutModel",
          "model_module_version": "1.2.0",
          "state": {
            "_model_module": "@jupyter-widgets/base",
            "_model_module_version": "1.2.0",
            "_model_name": "LayoutModel",
            "_view_count": null,
            "_view_module": "@jupyter-widgets/base",
            "_view_module_version": "1.2.0",
            "_view_name": "LayoutView",
            "align_content": null,
            "align_items": null,
            "align_self": null,
            "border": null,
            "bottom": null,
            "display": null,
            "flex": null,
            "flex_flow": null,
            "grid_area": null,
            "grid_auto_columns": null,
            "grid_auto_flow": null,
            "grid_auto_rows": null,
            "grid_column": null,
            "grid_gap": null,
            "grid_row": null,
            "grid_template_areas": null,
            "grid_template_columns": null,
            "grid_template_rows": null,
            "height": null,
            "justify_content": null,
            "justify_items": null,
            "left": null,
            "margin": null,
            "max_height": null,
            "max_width": null,
            "min_height": null,
            "min_width": null,
            "object_fit": null,
            "object_position": null,
            "order": null,
            "overflow": null,
            "overflow_x": null,
            "overflow_y": null,
            "padding": null,
            "right": null,
            "top": null,
            "visibility": null,
            "width": null
          }
        },
        "99d55138619f4898977b5dda474c0966": {
          "model_module": "@jupyter-widgets/controls",
          "model_name": "DescriptionStyleModel",
          "model_module_version": "1.5.0",
          "state": {
            "_model_module": "@jupyter-widgets/controls",
            "_model_module_version": "1.5.0",
            "_model_name": "DescriptionStyleModel",
            "_view_count": null,
            "_view_module": "@jupyter-widgets/base",
            "_view_module_version": "1.2.0",
            "_view_name": "StyleView",
            "description_width": ""
          }
        },
        "8ca0350cb78f40d2867b526dd85be38c": {
          "model_module": "@jupyter-widgets/controls",
          "model_name": "HBoxModel",
          "model_module_version": "1.5.0",
          "state": {
            "_dom_classes": [],
            "_model_module": "@jupyter-widgets/controls",
            "_model_module_version": "1.5.0",
            "_model_name": "HBoxModel",
            "_view_count": null,
            "_view_module": "@jupyter-widgets/controls",
            "_view_module_version": "1.5.0",
            "_view_name": "HBoxView",
            "box_style": "",
            "children": [
              "IPY_MODEL_267d0af21e764df4b9b3c80a45dff748",
              "IPY_MODEL_45e21bed11604ee6a2a2aed7a1b3fcff",
              "IPY_MODEL_b1d978c763644afdb4bcdfa7683ade79"
            ],
            "layout": "IPY_MODEL_d79cfdd28932405faef058b35e4323f6"
          }
        },
        "267d0af21e764df4b9b3c80a45dff748": {
          "model_module": "@jupyter-widgets/controls",
          "model_name": "HTMLModel",
          "model_module_version": "1.5.0",
          "state": {
            "_dom_classes": [],
            "_model_module": "@jupyter-widgets/controls",
            "_model_module_version": "1.5.0",
            "_model_name": "HTMLModel",
            "_view_count": null,
            "_view_module": "@jupyter-widgets/controls",
            "_view_module_version": "1.5.0",
            "_view_name": "HTMLView",
            "description": "",
            "description_tooltip": null,
            "layout": "IPY_MODEL_a7e381f47d6d4fe09ad2623d3c4196f0",
            "placeholder": "​",
            "style": "IPY_MODEL_0085be8b9c444980a92f824204274f0b",
            "value": "tokenizer.json: 100%"
          }
        },
        "45e21bed11604ee6a2a2aed7a1b3fcff": {
          "model_module": "@jupyter-widgets/controls",
          "model_name": "FloatProgressModel",
          "model_module_version": "1.5.0",
          "state": {
            "_dom_classes": [],
            "_model_module": "@jupyter-widgets/controls",
            "_model_module_version": "1.5.0",
            "_model_name": "FloatProgressModel",
            "_view_count": null,
            "_view_module": "@jupyter-widgets/controls",
            "_view_module_version": "1.5.0",
            "_view_name": "ProgressView",
            "bar_style": "success",
            "description": "",
            "description_tooltip": null,
            "layout": "IPY_MODEL_e226ae798ad64b9e85165f6583373fee",
            "max": 466062,
            "min": 0,
            "orientation": "horizontal",
            "style": "IPY_MODEL_5d816fa665bf413c93e69f9e8e6fb20d",
            "value": 466062
          }
        },
        "b1d978c763644afdb4bcdfa7683ade79": {
          "model_module": "@jupyter-widgets/controls",
          "model_name": "HTMLModel",
          "model_module_version": "1.5.0",
          "state": {
            "_dom_classes": [],
            "_model_module": "@jupyter-widgets/controls",
            "_model_module_version": "1.5.0",
            "_model_name": "HTMLModel",
            "_view_count": null,
            "_view_module": "@jupyter-widgets/controls",
            "_view_module_version": "1.5.0",
            "_view_name": "HTMLView",
            "description": "",
            "description_tooltip": null,
            "layout": "IPY_MODEL_998e39052d5b4fabaf70739896e76ffc",
            "placeholder": "​",
            "style": "IPY_MODEL_24d6f4a55ba3444abdffead1d34ab781",
            "value": " 466k/466k [00:00&lt;00:00, 13.6MB/s]"
          }
        },
        "d79cfdd28932405faef058b35e4323f6": {
          "model_module": "@jupyter-widgets/base",
          "model_name": "LayoutModel",
          "model_module_version": "1.2.0",
          "state": {
            "_model_module": "@jupyter-widgets/base",
            "_model_module_version": "1.2.0",
            "_model_name": "LayoutModel",
            "_view_count": null,
            "_view_module": "@jupyter-widgets/base",
            "_view_module_version": "1.2.0",
            "_view_name": "LayoutView",
            "align_content": null,
            "align_items": null,
            "align_self": null,
            "border": null,
            "bottom": null,
            "display": null,
            "flex": null,
            "flex_flow": null,
            "grid_area": null,
            "grid_auto_columns": null,
            "grid_auto_flow": null,
            "grid_auto_rows": null,
            "grid_column": null,
            "grid_gap": null,
            "grid_row": null,
            "grid_template_areas": null,
            "grid_template_columns": null,
            "grid_template_rows": null,
            "height": null,
            "justify_content": null,
            "justify_items": null,
            "left": null,
            "margin": null,
            "max_height": null,
            "max_width": null,
            "min_height": null,
            "min_width": null,
            "object_fit": null,
            "object_position": null,
            "order": null,
            "overflow": null,
            "overflow_x": null,
            "overflow_y": null,
            "padding": null,
            "right": null,
            "top": null,
            "visibility": null,
            "width": null
          }
        },
        "a7e381f47d6d4fe09ad2623d3c4196f0": {
          "model_module": "@jupyter-widgets/base",
          "model_name": "LayoutModel",
          "model_module_version": "1.2.0",
          "state": {
            "_model_module": "@jupyter-widgets/base",
            "_model_module_version": "1.2.0",
            "_model_name": "LayoutModel",
            "_view_count": null,
            "_view_module": "@jupyter-widgets/base",
            "_view_module_version": "1.2.0",
            "_view_name": "LayoutView",
            "align_content": null,
            "align_items": null,
            "align_self": null,
            "border": null,
            "bottom": null,
            "display": null,
            "flex": null,
            "flex_flow": null,
            "grid_area": null,
            "grid_auto_columns": null,
            "grid_auto_flow": null,
            "grid_auto_rows": null,
            "grid_column": null,
            "grid_gap": null,
            "grid_row": null,
            "grid_template_areas": null,
            "grid_template_columns": null,
            "grid_template_rows": null,
            "height": null,
            "justify_content": null,
            "justify_items": null,
            "left": null,
            "margin": null,
            "max_height": null,
            "max_width": null,
            "min_height": null,
            "min_width": null,
            "object_fit": null,
            "object_position": null,
            "order": null,
            "overflow": null,
            "overflow_x": null,
            "overflow_y": null,
            "padding": null,
            "right": null,
            "top": null,
            "visibility": null,
            "width": null
          }
        },
        "0085be8b9c444980a92f824204274f0b": {
          "model_module": "@jupyter-widgets/controls",
          "model_name": "DescriptionStyleModel",
          "model_module_version": "1.5.0",
          "state": {
            "_model_module": "@jupyter-widgets/controls",
            "_model_module_version": "1.5.0",
            "_model_name": "DescriptionStyleModel",
            "_view_count": null,
            "_view_module": "@jupyter-widgets/base",
            "_view_module_version": "1.2.0",
            "_view_name": "StyleView",
            "description_width": ""
          }
        },
        "e226ae798ad64b9e85165f6583373fee": {
          "model_module": "@jupyter-widgets/base",
          "model_name": "LayoutModel",
          "model_module_version": "1.2.0",
          "state": {
            "_model_module": "@jupyter-widgets/base",
            "_model_module_version": "1.2.0",
            "_model_name": "LayoutModel",
            "_view_count": null,
            "_view_module": "@jupyter-widgets/base",
            "_view_module_version": "1.2.0",
            "_view_name": "LayoutView",
            "align_content": null,
            "align_items": null,
            "align_self": null,
            "border": null,
            "bottom": null,
            "display": null,
            "flex": null,
            "flex_flow": null,
            "grid_area": null,
            "grid_auto_columns": null,
            "grid_auto_flow": null,
            "grid_auto_rows": null,
            "grid_column": null,
            "grid_gap": null,
            "grid_row": null,
            "grid_template_areas": null,
            "grid_template_columns": null,
            "grid_template_rows": null,
            "height": null,
            "justify_content": null,
            "justify_items": null,
            "left": null,
            "margin": null,
            "max_height": null,
            "max_width": null,
            "min_height": null,
            "min_width": null,
            "object_fit": null,
            "object_position": null,
            "order": null,
            "overflow": null,
            "overflow_x": null,
            "overflow_y": null,
            "padding": null,
            "right": null,
            "top": null,
            "visibility": null,
            "width": null
          }
        },
        "5d816fa665bf413c93e69f9e8e6fb20d": {
          "model_module": "@jupyter-widgets/controls",
          "model_name": "ProgressStyleModel",
          "model_module_version": "1.5.0",
          "state": {
            "_model_module": "@jupyter-widgets/controls",
            "_model_module_version": "1.5.0",
            "_model_name": "ProgressStyleModel",
            "_view_count": null,
            "_view_module": "@jupyter-widgets/base",
            "_view_module_version": "1.2.0",
            "_view_name": "StyleView",
            "bar_color": null,
            "description_width": ""
          }
        },
        "998e39052d5b4fabaf70739896e76ffc": {
          "model_module": "@jupyter-widgets/base",
          "model_name": "LayoutModel",
          "model_module_version": "1.2.0",
          "state": {
            "_model_module": "@jupyter-widgets/base",
            "_model_module_version": "1.2.0",
            "_model_name": "LayoutModel",
            "_view_count": null,
            "_view_module": "@jupyter-widgets/base",
            "_view_module_version": "1.2.0",
            "_view_name": "LayoutView",
            "align_content": null,
            "align_items": null,
            "align_self": null,
            "border": null,
            "bottom": null,
            "display": null,
            "flex": null,
            "flex_flow": null,
            "grid_area": null,
            "grid_auto_columns": null,
            "grid_auto_flow": null,
            "grid_auto_rows": null,
            "grid_column": null,
            "grid_gap": null,
            "grid_row": null,
            "grid_template_areas": null,
            "grid_template_columns": null,
            "grid_template_rows": null,
            "height": null,
            "justify_content": null,
            "justify_items": null,
            "left": null,
            "margin": null,
            "max_height": null,
            "max_width": null,
            "min_height": null,
            "min_width": null,
            "object_fit": null,
            "object_position": null,
            "order": null,
            "overflow": null,
            "overflow_x": null,
            "overflow_y": null,
            "padding": null,
            "right": null,
            "top": null,
            "visibility": null,
            "width": null
          }
        },
        "24d6f4a55ba3444abdffead1d34ab781": {
          "model_module": "@jupyter-widgets/controls",
          "model_name": "DescriptionStyleModel",
          "model_module_version": "1.5.0",
          "state": {
            "_model_module": "@jupyter-widgets/controls",
            "_model_module_version": "1.5.0",
            "_model_name": "DescriptionStyleModel",
            "_view_count": null,
            "_view_module": "@jupyter-widgets/base",
            "_view_module_version": "1.2.0",
            "_view_name": "StyleView",
            "description_width": ""
          }
        },
        "c7abf40a6fb4484a8576ac4998b8cdc2": {
          "model_module": "@jupyter-widgets/controls",
          "model_name": "HBoxModel",
          "model_module_version": "1.5.0",
          "state": {
            "_dom_classes": [],
            "_model_module": "@jupyter-widgets/controls",
            "_model_module_version": "1.5.0",
            "_model_name": "HBoxModel",
            "_view_count": null,
            "_view_module": "@jupyter-widgets/controls",
            "_view_module_version": "1.5.0",
            "_view_name": "HBoxView",
            "box_style": "",
            "children": [
              "IPY_MODEL_c032912d892249b898b68c00c0f174dd",
              "IPY_MODEL_566bcbae6ae247bdb9719e5c2f3799b6",
              "IPY_MODEL_b1ff311c2b8448ff8201cf8728f7b4e0"
            ],
            "layout": "IPY_MODEL_0edda5a86ba14c008df38c04f3f9f96c"
          }
        },
        "c032912d892249b898b68c00c0f174dd": {
          "model_module": "@jupyter-widgets/controls",
          "model_name": "HTMLModel",
          "model_module_version": "1.5.0",
          "state": {
            "_dom_classes": [],
            "_model_module": "@jupyter-widgets/controls",
            "_model_module_version": "1.5.0",
            "_model_name": "HTMLModel",
            "_view_count": null,
            "_view_module": "@jupyter-widgets/controls",
            "_view_module_version": "1.5.0",
            "_view_name": "HTMLView",
            "description": "",
            "description_tooltip": null,
            "layout": "IPY_MODEL_e375ab31e2f44377b28aee4164fb868a",
            "placeholder": "​",
            "style": "IPY_MODEL_16109f24e91a4d7592446d553511a3de",
            "value": "config.json: 100%"
          }
        },
        "566bcbae6ae247bdb9719e5c2f3799b6": {
          "model_module": "@jupyter-widgets/controls",
          "model_name": "FloatProgressModel",
          "model_module_version": "1.5.0",
          "state": {
            "_dom_classes": [],
            "_model_module": "@jupyter-widgets/controls",
            "_model_module_version": "1.5.0",
            "_model_name": "FloatProgressModel",
            "_view_count": null,
            "_view_module": "@jupyter-widgets/controls",
            "_view_module_version": "1.5.0",
            "_view_name": "ProgressView",
            "bar_style": "success",
            "description": "",
            "description_tooltip": null,
            "layout": "IPY_MODEL_0763af7a931d4953b4bdac9840bed6ba",
            "max": 570,
            "min": 0,
            "orientation": "horizontal",
            "style": "IPY_MODEL_a1d8077ef04d4734bed439ef98a0803b",
            "value": 570
          }
        },
        "b1ff311c2b8448ff8201cf8728f7b4e0": {
          "model_module": "@jupyter-widgets/controls",
          "model_name": "HTMLModel",
          "model_module_version": "1.5.0",
          "state": {
            "_dom_classes": [],
            "_model_module": "@jupyter-widgets/controls",
            "_model_module_version": "1.5.0",
            "_model_name": "HTMLModel",
            "_view_count": null,
            "_view_module": "@jupyter-widgets/controls",
            "_view_module_version": "1.5.0",
            "_view_name": "HTMLView",
            "description": "",
            "description_tooltip": null,
            "layout": "IPY_MODEL_e455d7d3c384452aa2badf5a57e5f616",
            "placeholder": "​",
            "style": "IPY_MODEL_e69abbf532b5444583408925c8d4a798",
            "value": " 570/570 [00:00&lt;00:00, 44.1kB/s]"
          }
        },
        "0edda5a86ba14c008df38c04f3f9f96c": {
          "model_module": "@jupyter-widgets/base",
          "model_name": "LayoutModel",
          "model_module_version": "1.2.0",
          "state": {
            "_model_module": "@jupyter-widgets/base",
            "_model_module_version": "1.2.0",
            "_model_name": "LayoutModel",
            "_view_count": null,
            "_view_module": "@jupyter-widgets/base",
            "_view_module_version": "1.2.0",
            "_view_name": "LayoutView",
            "align_content": null,
            "align_items": null,
            "align_self": null,
            "border": null,
            "bottom": null,
            "display": null,
            "flex": null,
            "flex_flow": null,
            "grid_area": null,
            "grid_auto_columns": null,
            "grid_auto_flow": null,
            "grid_auto_rows": null,
            "grid_column": null,
            "grid_gap": null,
            "grid_row": null,
            "grid_template_areas": null,
            "grid_template_columns": null,
            "grid_template_rows": null,
            "height": null,
            "justify_content": null,
            "justify_items": null,
            "left": null,
            "margin": null,
            "max_height": null,
            "max_width": null,
            "min_height": null,
            "min_width": null,
            "object_fit": null,
            "object_position": null,
            "order": null,
            "overflow": null,
            "overflow_x": null,
            "overflow_y": null,
            "padding": null,
            "right": null,
            "top": null,
            "visibility": null,
            "width": null
          }
        },
        "e375ab31e2f44377b28aee4164fb868a": {
          "model_module": "@jupyter-widgets/base",
          "model_name": "LayoutModel",
          "model_module_version": "1.2.0",
          "state": {
            "_model_module": "@jupyter-widgets/base",
            "_model_module_version": "1.2.0",
            "_model_name": "LayoutModel",
            "_view_count": null,
            "_view_module": "@jupyter-widgets/base",
            "_view_module_version": "1.2.0",
            "_view_name": "LayoutView",
            "align_content": null,
            "align_items": null,
            "align_self": null,
            "border": null,
            "bottom": null,
            "display": null,
            "flex": null,
            "flex_flow": null,
            "grid_area": null,
            "grid_auto_columns": null,
            "grid_auto_flow": null,
            "grid_auto_rows": null,
            "grid_column": null,
            "grid_gap": null,
            "grid_row": null,
            "grid_template_areas": null,
            "grid_template_columns": null,
            "grid_template_rows": null,
            "height": null,
            "justify_content": null,
            "justify_items": null,
            "left": null,
            "margin": null,
            "max_height": null,
            "max_width": null,
            "min_height": null,
            "min_width": null,
            "object_fit": null,
            "object_position": null,
            "order": null,
            "overflow": null,
            "overflow_x": null,
            "overflow_y": null,
            "padding": null,
            "right": null,
            "top": null,
            "visibility": null,
            "width": null
          }
        },
        "16109f24e91a4d7592446d553511a3de": {
          "model_module": "@jupyter-widgets/controls",
          "model_name": "DescriptionStyleModel",
          "model_module_version": "1.5.0",
          "state": {
            "_model_module": "@jupyter-widgets/controls",
            "_model_module_version": "1.5.0",
            "_model_name": "DescriptionStyleModel",
            "_view_count": null,
            "_view_module": "@jupyter-widgets/base",
            "_view_module_version": "1.2.0",
            "_view_name": "StyleView",
            "description_width": ""
          }
        },
        "0763af7a931d4953b4bdac9840bed6ba": {
          "model_module": "@jupyter-widgets/base",
          "model_name": "LayoutModel",
          "model_module_version": "1.2.0",
          "state": {
            "_model_module": "@jupyter-widgets/base",
            "_model_module_version": "1.2.0",
            "_model_name": "LayoutModel",
            "_view_count": null,
            "_view_module": "@jupyter-widgets/base",
            "_view_module_version": "1.2.0",
            "_view_name": "LayoutView",
            "align_content": null,
            "align_items": null,
            "align_self": null,
            "border": null,
            "bottom": null,
            "display": null,
            "flex": null,
            "flex_flow": null,
            "grid_area": null,
            "grid_auto_columns": null,
            "grid_auto_flow": null,
            "grid_auto_rows": null,
            "grid_column": null,
            "grid_gap": null,
            "grid_row": null,
            "grid_template_areas": null,
            "grid_template_columns": null,
            "grid_template_rows": null,
            "height": null,
            "justify_content": null,
            "justify_items": null,
            "left": null,
            "margin": null,
            "max_height": null,
            "max_width": null,
            "min_height": null,
            "min_width": null,
            "object_fit": null,
            "object_position": null,
            "order": null,
            "overflow": null,
            "overflow_x": null,
            "overflow_y": null,
            "padding": null,
            "right": null,
            "top": null,
            "visibility": null,
            "width": null
          }
        },
        "a1d8077ef04d4734bed439ef98a0803b": {
          "model_module": "@jupyter-widgets/controls",
          "model_name": "ProgressStyleModel",
          "model_module_version": "1.5.0",
          "state": {
            "_model_module": "@jupyter-widgets/controls",
            "_model_module_version": "1.5.0",
            "_model_name": "ProgressStyleModel",
            "_view_count": null,
            "_view_module": "@jupyter-widgets/base",
            "_view_module_version": "1.2.0",
            "_view_name": "StyleView",
            "bar_color": null,
            "description_width": ""
          }
        },
        "e455d7d3c384452aa2badf5a57e5f616": {
          "model_module": "@jupyter-widgets/base",
          "model_name": "LayoutModel",
          "model_module_version": "1.2.0",
          "state": {
            "_model_module": "@jupyter-widgets/base",
            "_model_module_version": "1.2.0",
            "_model_name": "LayoutModel",
            "_view_count": null,
            "_view_module": "@jupyter-widgets/base",
            "_view_module_version": "1.2.0",
            "_view_name": "LayoutView",
            "align_content": null,
            "align_items": null,
            "align_self": null,
            "border": null,
            "bottom": null,
            "display": null,
            "flex": null,
            "flex_flow": null,
            "grid_area": null,
            "grid_auto_columns": null,
            "grid_auto_flow": null,
            "grid_auto_rows": null,
            "grid_column": null,
            "grid_gap": null,
            "grid_row": null,
            "grid_template_areas": null,
            "grid_template_columns": null,
            "grid_template_rows": null,
            "height": null,
            "justify_content": null,
            "justify_items": null,
            "left": null,
            "margin": null,
            "max_height": null,
            "max_width": null,
            "min_height": null,
            "min_width": null,
            "object_fit": null,
            "object_position": null,
            "order": null,
            "overflow": null,
            "overflow_x": null,
            "overflow_y": null,
            "padding": null,
            "right": null,
            "top": null,
            "visibility": null,
            "width": null
          }
        },
        "e69abbf532b5444583408925c8d4a798": {
          "model_module": "@jupyter-widgets/controls",
          "model_name": "DescriptionStyleModel",
          "model_module_version": "1.5.0",
          "state": {
            "_model_module": "@jupyter-widgets/controls",
            "_model_module_version": "1.5.0",
            "_model_name": "DescriptionStyleModel",
            "_view_count": null,
            "_view_module": "@jupyter-widgets/base",
            "_view_module_version": "1.2.0",
            "_view_name": "StyleView",
            "description_width": ""
          }
        },
        "54244edf04504a598e9d15d7086d04d6": {
          "model_module": "@jupyter-widgets/controls",
          "model_name": "HBoxModel",
          "model_module_version": "1.5.0",
          "state": {
            "_dom_classes": [],
            "_model_module": "@jupyter-widgets/controls",
            "_model_module_version": "1.5.0",
            "_model_name": "HBoxModel",
            "_view_count": null,
            "_view_module": "@jupyter-widgets/controls",
            "_view_module_version": "1.5.0",
            "_view_name": "HBoxView",
            "box_style": "",
            "children": [
              "IPY_MODEL_0b965f5704844fb6ae14c80f68a0be9a",
              "IPY_MODEL_9078d49d08de458ba115a98e986f974c",
              "IPY_MODEL_accd5486d8df46a687b76ebbfaf893db"
            ],
            "layout": "IPY_MODEL_5f8633c328144d7c9fb043153bfe1074"
          }
        },
        "0b965f5704844fb6ae14c80f68a0be9a": {
          "model_module": "@jupyter-widgets/controls",
          "model_name": "HTMLModel",
          "model_module_version": "1.5.0",
          "state": {
            "_dom_classes": [],
            "_model_module": "@jupyter-widgets/controls",
            "_model_module_version": "1.5.0",
            "_model_name": "HTMLModel",
            "_view_count": null,
            "_view_module": "@jupyter-widgets/controls",
            "_view_module_version": "1.5.0",
            "_view_name": "HTMLView",
            "description": "",
            "description_tooltip": null,
            "layout": "IPY_MODEL_6f6bbd381f4d41b5acd54bc2072f803d",
            "placeholder": "​",
            "style": "IPY_MODEL_f8a1f7fba5784c0fa786d4f591bacb8c",
            "value": "model.safetensors: 100%"
          }
        },
        "9078d49d08de458ba115a98e986f974c": {
          "model_module": "@jupyter-widgets/controls",
          "model_name": "FloatProgressModel",
          "model_module_version": "1.5.0",
          "state": {
            "_dom_classes": [],
            "_model_module": "@jupyter-widgets/controls",
            "_model_module_version": "1.5.0",
            "_model_name": "FloatProgressModel",
            "_view_count": null,
            "_view_module": "@jupyter-widgets/controls",
            "_view_module_version": "1.5.0",
            "_view_name": "ProgressView",
            "bar_style": "success",
            "description": "",
            "description_tooltip": null,
            "layout": "IPY_MODEL_c73233625956470dab5775d6e87ee9e2",
            "max": 440449768,
            "min": 0,
            "orientation": "horizontal",
            "style": "IPY_MODEL_1f667339f8254d328668ff5ec7f3766e",
            "value": 440449768
          }
        },
        "accd5486d8df46a687b76ebbfaf893db": {
          "model_module": "@jupyter-widgets/controls",
          "model_name": "HTMLModel",
          "model_module_version": "1.5.0",
          "state": {
            "_dom_classes": [],
            "_model_module": "@jupyter-widgets/controls",
            "_model_module_version": "1.5.0",
            "_model_name": "HTMLModel",
            "_view_count": null,
            "_view_module": "@jupyter-widgets/controls",
            "_view_module_version": "1.5.0",
            "_view_name": "HTMLView",
            "description": "",
            "description_tooltip": null,
            "layout": "IPY_MODEL_77e2d2bc20344b01b4374329d95916f1",
            "placeholder": "​",
            "style": "IPY_MODEL_3e58dc3c518446cc8206a7f0696c8ea1",
            "value": " 440M/440M [00:02&lt;00:00, 217MB/s]"
          }
        },
        "5f8633c328144d7c9fb043153bfe1074": {
          "model_module": "@jupyter-widgets/base",
          "model_name": "LayoutModel",
          "model_module_version": "1.2.0",
          "state": {
            "_model_module": "@jupyter-widgets/base",
            "_model_module_version": "1.2.0",
            "_model_name": "LayoutModel",
            "_view_count": null,
            "_view_module": "@jupyter-widgets/base",
            "_view_module_version": "1.2.0",
            "_view_name": "LayoutView",
            "align_content": null,
            "align_items": null,
            "align_self": null,
            "border": null,
            "bottom": null,
            "display": null,
            "flex": null,
            "flex_flow": null,
            "grid_area": null,
            "grid_auto_columns": null,
            "grid_auto_flow": null,
            "grid_auto_rows": null,
            "grid_column": null,
            "grid_gap": null,
            "grid_row": null,
            "grid_template_areas": null,
            "grid_template_columns": null,
            "grid_template_rows": null,
            "height": null,
            "justify_content": null,
            "justify_items": null,
            "left": null,
            "margin": null,
            "max_height": null,
            "max_width": null,
            "min_height": null,
            "min_width": null,
            "object_fit": null,
            "object_position": null,
            "order": null,
            "overflow": null,
            "overflow_x": null,
            "overflow_y": null,
            "padding": null,
            "right": null,
            "top": null,
            "visibility": null,
            "width": null
          }
        },
        "6f6bbd381f4d41b5acd54bc2072f803d": {
          "model_module": "@jupyter-widgets/base",
          "model_name": "LayoutModel",
          "model_module_version": "1.2.0",
          "state": {
            "_model_module": "@jupyter-widgets/base",
            "_model_module_version": "1.2.0",
            "_model_name": "LayoutModel",
            "_view_count": null,
            "_view_module": "@jupyter-widgets/base",
            "_view_module_version": "1.2.0",
            "_view_name": "LayoutView",
            "align_content": null,
            "align_items": null,
            "align_self": null,
            "border": null,
            "bottom": null,
            "display": null,
            "flex": null,
            "flex_flow": null,
            "grid_area": null,
            "grid_auto_columns": null,
            "grid_auto_flow": null,
            "grid_auto_rows": null,
            "grid_column": null,
            "grid_gap": null,
            "grid_row": null,
            "grid_template_areas": null,
            "grid_template_columns": null,
            "grid_template_rows": null,
            "height": null,
            "justify_content": null,
            "justify_items": null,
            "left": null,
            "margin": null,
            "max_height": null,
            "max_width": null,
            "min_height": null,
            "min_width": null,
            "object_fit": null,
            "object_position": null,
            "order": null,
            "overflow": null,
            "overflow_x": null,
            "overflow_y": null,
            "padding": null,
            "right": null,
            "top": null,
            "visibility": null,
            "width": null
          }
        },
        "f8a1f7fba5784c0fa786d4f591bacb8c": {
          "model_module": "@jupyter-widgets/controls",
          "model_name": "DescriptionStyleModel",
          "model_module_version": "1.5.0",
          "state": {
            "_model_module": "@jupyter-widgets/controls",
            "_model_module_version": "1.5.0",
            "_model_name": "DescriptionStyleModel",
            "_view_count": null,
            "_view_module": "@jupyter-widgets/base",
            "_view_module_version": "1.2.0",
            "_view_name": "StyleView",
            "description_width": ""
          }
        },
        "c73233625956470dab5775d6e87ee9e2": {
          "model_module": "@jupyter-widgets/base",
          "model_name": "LayoutModel",
          "model_module_version": "1.2.0",
          "state": {
            "_model_module": "@jupyter-widgets/base",
            "_model_module_version": "1.2.0",
            "_model_name": "LayoutModel",
            "_view_count": null,
            "_view_module": "@jupyter-widgets/base",
            "_view_module_version": "1.2.0",
            "_view_name": "LayoutView",
            "align_content": null,
            "align_items": null,
            "align_self": null,
            "border": null,
            "bottom": null,
            "display": null,
            "flex": null,
            "flex_flow": null,
            "grid_area": null,
            "grid_auto_columns": null,
            "grid_auto_flow": null,
            "grid_auto_rows": null,
            "grid_column": null,
            "grid_gap": null,
            "grid_row": null,
            "grid_template_areas": null,
            "grid_template_columns": null,
            "grid_template_rows": null,
            "height": null,
            "justify_content": null,
            "justify_items": null,
            "left": null,
            "margin": null,
            "max_height": null,
            "max_width": null,
            "min_height": null,
            "min_width": null,
            "object_fit": null,
            "object_position": null,
            "order": null,
            "overflow": null,
            "overflow_x": null,
            "overflow_y": null,
            "padding": null,
            "right": null,
            "top": null,
            "visibility": null,
            "width": null
          }
        },
        "1f667339f8254d328668ff5ec7f3766e": {
          "model_module": "@jupyter-widgets/controls",
          "model_name": "ProgressStyleModel",
          "model_module_version": "1.5.0",
          "state": {
            "_model_module": "@jupyter-widgets/controls",
            "_model_module_version": "1.5.0",
            "_model_name": "ProgressStyleModel",
            "_view_count": null,
            "_view_module": "@jupyter-widgets/base",
            "_view_module_version": "1.2.0",
            "_view_name": "StyleView",
            "bar_color": null,
            "description_width": ""
          }
        },
        "77e2d2bc20344b01b4374329d95916f1": {
          "model_module": "@jupyter-widgets/base",
          "model_name": "LayoutModel",
          "model_module_version": "1.2.0",
          "state": {
            "_model_module": "@jupyter-widgets/base",
            "_model_module_version": "1.2.0",
            "_model_name": "LayoutModel",
            "_view_count": null,
            "_view_module": "@jupyter-widgets/base",
            "_view_module_version": "1.2.0",
            "_view_name": "LayoutView",
            "align_content": null,
            "align_items": null,
            "align_self": null,
            "border": null,
            "bottom": null,
            "display": null,
            "flex": null,
            "flex_flow": null,
            "grid_area": null,
            "grid_auto_columns": null,
            "grid_auto_flow": null,
            "grid_auto_rows": null,
            "grid_column": null,
            "grid_gap": null,
            "grid_row": null,
            "grid_template_areas": null,
            "grid_template_columns": null,
            "grid_template_rows": null,
            "height": null,
            "justify_content": null,
            "justify_items": null,
            "left": null,
            "margin": null,
            "max_height": null,
            "max_width": null,
            "min_height": null,
            "min_width": null,
            "object_fit": null,
            "object_position": null,
            "order": null,
            "overflow": null,
            "overflow_x": null,
            "overflow_y": null,
            "padding": null,
            "right": null,
            "top": null,
            "visibility": null,
            "width": null
          }
        },
        "3e58dc3c518446cc8206a7f0696c8ea1": {
          "model_module": "@jupyter-widgets/controls",
          "model_name": "DescriptionStyleModel",
          "model_module_version": "1.5.0",
          "state": {
            "_model_module": "@jupyter-widgets/controls",
            "_model_module_version": "1.5.0",
            "_model_name": "DescriptionStyleModel",
            "_view_count": null,
            "_view_module": "@jupyter-widgets/base",
            "_view_module_version": "1.2.0",
            "_view_name": "StyleView",
            "description_width": ""
          }
        }
      }
    }
  },
  "nbformat": 4,
  "nbformat_minor": 0
}